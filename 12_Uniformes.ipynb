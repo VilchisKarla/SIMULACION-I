{
  "nbformat": 4,
  "nbformat_minor": 0,
  "metadata": {
    "colab": {
      "provenance": [],
      "authorship_tag": "ABX9TyN+4EaqwVyGfh766qI/1H+A",
      "include_colab_link": true
    },
    "kernelspec": {
      "name": "python3",
      "display_name": "Python 3"
    },
    "language_info": {
      "name": "python"
    }
  },
  "cells": [
    {
      "cell_type": "markdown",
      "metadata": {
        "id": "view-in-github",
        "colab_type": "text"
      },
      "source": [
        "<a href=\"https://colab.research.google.com/github/VilchisKarla/SIMULACION-I/blob/main/12_Uniformes.ipynb\" target=\"_parent\"><img src=\"https://colab.research.google.com/assets/colab-badge.svg\" alt=\"Open In Colab\"/></a>"
      ]
    },
    {
      "cell_type": "markdown",
      "source": [
        "# **Método de las 12 uniformes**\n",
        "Vilchis García Karla Ivonne\n",
        "\n",
        "---\n",
        "\n",
        "Para generar la  distribuciódistribución uniforme\n",
        "$$f(x)=\\frac{1}{\\sqrt{2\\pi}\\sigma} e^{\\frac{1}{2}(\\frac{x-\\mu}{\\sigma})^2}$$\n",
        "1. usando el teorema del límite central\n",
        "2. generamos **n** números aleatorios y consideramos\n",
        "\n",
        "$$z=\\frac{Y-\\sum_{i=1}^n \\mu_i}{\\sqrt{\\sum_{i=1}^n\\sigma_i^2}}$$\n",
        "\n",
        " donde $Y=R_1+R_2+\\cdots+R_n$\n",
        "\n",
        " Así,  como la media es $\\frac{1}{2}$ y la varinza $\\frac{1}{12}$\n",
        "\n",
        "tenemos\n",
        "$$z=\\frac{\\sum_{i=1}^n R_i - \\frac{n}{2}}{\\sqrt{\\frac{n}{12}}}$$\n",
        "siendo $R_i \\thicksim U(0,1)$\n",
        "para simplificaar los cálculos, tomamos $n=12$\n",
        "$$z=\\sum_{i=1}^{12} R_i -6 $$\n",
        "\n",
        "Finalmente obtenemos\n",
        "$$x=\\mu+\\sigma (\\sum_{i=1}^{12} R_i -6)$$"
      ],
      "metadata": {
        "id": "A2j10uLIAySW"
      }
    },
    {
      "cell_type": "code",
      "execution_count": null,
      "metadata": {
        "id": "KoLbW7Mm6IQF"
      },
      "outputs": [],
      "source": [
        "#importamos las paqueterías necesarias\n",
        "import random as rd\n",
        "import matplotlib.pyplot as plt"
      ]
    },
    {
      "cell_type": "code",
      "source": [
        "#d#damos ciertos valores de media y varianza\n",
        "m = 2\n",
        "v = 3"
      ],
      "metadata": {
        "id": "IP7lqSj36Rvp"
      },
      "execution_count": null,
      "outputs": []
    },
    {
      "cell_type": "code",
      "source": [
        "#definimos la función de nuestro experimento\n",
        "def especial(n):\n",
        "    r = [] #lista para  almcenar n veces la x calculada\n",
        "    for _ in range(n): #ciclo para calcular las x y agregarlos a la lista r\n",
        "        sum = 0 #iniciamos  un contador para sumar los 12 números random generados\n",
        "        for i in range(12):#ciclo para generar los 12 números random\n",
        "            ri = rd.random()\n",
        "            sum += ri #se suman los 12 números random\n",
        "        x = m  + v * (sum-6) #calculamos las x n veces\n",
        "        r.append(x) #agregamos los n calculos de x a  la lista\n",
        "    return r #regresa la  lista de los n calculos de x"
      ],
      "metadata": {
        "id": "MlJxoH2L6jVl"
      },
      "execution_count": null,
      "outputs": []
    },
    {
      "cell_type": "code",
      "source": [
        "#gráfica\n",
        "plt.hist(especial(10000), bins=100)\n",
        "plt.show()"
      ],
      "metadata": {
        "colab": {
          "base_uri": "https://localhost:8080/",
          "height": 430
        },
        "id": "ykxRuUSt-iiR",
        "outputId": "39b2643a-bd2a-4fd5-c814-d4457be83f58"
      },
      "execution_count": null,
      "outputs": [
        {
          "output_type": "display_data",
          "data": {
            "text/plain": [
              "<Figure size 640x480 with 1 Axes>"
            ],
            "image/png": "[encoded data removed]"
          },
          "metadata": {}
        }
      ]
    }
  ]
}