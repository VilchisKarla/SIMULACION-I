{
  "nbformat": 4,
  "nbformat_minor": 0,
  "metadata": {
    "colab": {
      "provenance": [],
      "authorship_tag": "ABX9TyPpimNAcOl1kE8AhrgteuP8",
      "include_colab_link": true
    },
    "kernelspec": {
      "name": "python3",
      "display_name": "Python 3"
    },
    "language_info": {
      "name": "python"
    }
  },
  "cells": [
    {
      "cell_type": "markdown",
      "metadata": {
        "id": "view-in-github",
        "colab_type": "text"
      },
      "source": [
        "<a href=\"https://colab.research.google.com/github/VilchisKarla/SIMULACION-I/blob/main/Aceptacion_Error_Triangular.ipynb\" target=\"_parent\"><img src=\"https://colab.research.google.com/assets/colab-badge.svg\" alt=\"Open In Colab\"/></a>"
      ]
    },
    {
      "cell_type": "markdown",
      "source": [
        "# **Aceptación y Error: Distribución Triangular**\n",
        "*Vilchis García Karla Ivonne*\n",
        "\n",
        "\n",
        "---\n",
        "\n",
        "Pasos:\n",
        "1. generar 2 números aleatorios *(R1 y R2)*\n",
        "2. determinamos *x*\n",
        "$$x=a+(b-a)R_1$$\n",
        "3. evaluamos *x* en *f(x)*\n",
        "4. si $\\quad R_2 \\leq \\frac{f(x)}{M} \\quad$ se acepta *x*\n",
        "\n",
        "  en otro caso, rechazar *x*"
      ],
      "metadata": {
        "id": "CzxEQ6lU_5HF"
      }
    },
    {
      "cell_type": "code",
      "source": [
        "#importamos las paqueterías necesarias\n",
        "import random as rd\n",
        "import numpy as np\n",
        "import matplotlib.pyplot as plt"
      ],
      "metadata": {
        "id": "ehGofaCw_RHJ"
      },
      "execution_count": 12,
      "outputs": []
    },
    {
      "cell_type": "code",
      "execution_count": 13,
      "metadata": {
        "id": "PUHSMdUf-fr9"
      },
      "outputs": [],
      "source": [
        "#definimos los parámetros iniciales\n",
        "a=1\n",
        "b=3\n",
        "c=5\n",
        "M= 2 / (c-a)"
      ]
    },
    {
      "cell_type": "code",
      "source": [
        "#definimos nuestra función f(x)\n",
        "def f(x):\n",
        "  if a<=x<=b:\n",
        "    return (2*(x-a)) / ((b-a)*(c-a))\n",
        "  elif b<x<=c:\n",
        "    return -(2*(x-c)) / ((c-b)*(c-a))"
      ],
      "metadata": {
        "id": "TaKLqZcT_AMo"
      },
      "execution_count": 14,
      "outputs": []
    },
    {
      "cell_type": "code",
      "source": [
        "#hacemos la función que determinara la aceptación de los x\n",
        "def acept_triang(n):\n",
        "    l = [] #creamos la lista donde se almacenaran los x aceptados\n",
        "    for i in range(n): #iniciamos el ciclo para generar los números aleatorios\n",
        "        r1 = rd.random()\n",
        "        r2 = rd.random()\n",
        "        x = a+(c-a)*r1 #evaluamos el primer número aleatorio\n",
        "        if r2 <= f(x)/M:#checamos la condición\n",
        "           l.append(x)#si la cumple se agrega a la lista\n",
        "    return l#regresa la lista de los x aceptados"
      ],
      "metadata": {
        "id": "yZnlvVim_DVb"
      },
      "execution_count": 15,
      "outputs": []
    },
    {
      "cell_type": "code",
      "source": [
        "#definimos una variable para el experimento\n",
        "j  = acept_triang(50000)"
      ],
      "metadata": {
        "id": "QhX9tGQ__F-8"
      },
      "execution_count": 16,
      "outputs": []
    },
    {
      "cell_type": "code",
      "source": [
        "#graficamos\n",
        "plt.hist(j,bins=50)\n",
        "plt.show()"
      ],
      "metadata": {
        "colab": {
          "base_uri": "https://localhost:8080/",
          "height": 430
        },
        "id": "SWql_Cj6_IHK",
        "outputId": "c1627d54-b54b-4d5d-8a80-59ea65dea25f"
      },
      "execution_count": 17,
      "outputs": [
        {
          "output_type": "display_data",
          "data": {
            "text/plain": [
              "<Figure size 640x480 with 1 Axes>"
            ],
            "image/png": "[encoded data removed]"
          },
          "metadata": {}
        }
      ]
    },
    {
      "cell_type": "code",
      "source": [
        "#calculamos la media, varianza y desviación estandar del experimento\n",
        "print(\"media\",np.mean(j))\n",
        "print(\"varianza\",np.var(j))\n",
        "print(\"desviación estandar\",np.std(j))\n",
        "print(\"Números aceptados:\",len(j))"
      ],
      "metadata": {
        "colab": {
          "base_uri": "https://localhost:8080/"
        },
        "id": "kKqClP4k_M8W",
        "outputId": "a5567d60-7ff0-4eae-e3de-36a3d41cab7f"
      },
      "execution_count": 18,
      "outputs": [
        {
          "output_type": "stream",
          "name": "stdout",
          "text": [
            "media 3.0005877780787977\n",
            "varianza 0.6573303374984513\n",
            "desviación estandar 0.8107591118812364\n",
            "Números aceptados: 25128\n"
          ]
        }
      ]
    },
    {
      "cell_type": "markdown",
      "source": [
        "### **Resultados Teóricos**\n",
        "para la media ocupamos\n",
        "$$E[x]=\\int_0^2f(x)xdx$$\n",
        "\n",
        "para la varianza:\n",
        "$$var[x]=E[x^2]-E[x]^2$$"
      ],
      "metadata": {
        "id": "HOdKFVdgDUfW"
      }
    },
    {
      "cell_type": "code",
      "source": [
        "#importamos sympy para la variable simbolica x\n",
        "import sympy as sp\n",
        "import math\n",
        "x = sp.Symbol('x')\n",
        "\n",
        "#calculamos la media con la formula de valor esperado  y nuestra integral\n",
        "#queda en dos partes (int 1 de 1 a 3) e (int2 de 3 a 5)\n",
        "y1 =(2*x*(x-a)) / ((b-a)*(c-a))\n",
        "int1=sp.integrate(y1,(x,1,3))\n",
        "\n",
        "y2 = (2*x*(x-c)) / ((c-a)*(b-c))\n",
        "int2=sp.integrate(y2,(x,3,5))\n",
        "\n",
        "E=int1+int2\n",
        "print(\"media:\", E)\n",
        "#calculamos las integrales para poder calcular la varianza\n",
        "y3 = (2*(x**2)*(x-a)) / ((b-a)*(c-a))\n",
        "int3=sp.integrate(y3,(x,1,3))\n",
        "\n",
        "y4 = (2*(x**2)*(x-c)) / ((c-a)*(b-c))\n",
        "int4=sp.integrate(y4,(x,3,5))\n",
        "\n",
        "v = int3+int4\n",
        "var = v-E**2\n",
        "print(\"varianza:\", var)\n",
        "\n",
        "ds = math.sqrt(var)\n",
        "print(\"desviación estandar:\", ds)"
      ],
      "metadata": {
        "colab": {
          "base_uri": "https://localhost:8080/"
        },
        "id": "lRiLRpF6DqoV",
        "outputId": "538893dd-94e7-4bc5-9d51-2261fe33c0e9"
      },
      "execution_count": 19,
      "outputs": [
        {
          "output_type": "stream",
          "name": "stdout",
          "text": [
            "media: 3\n",
            "varianza: 2/3\n",
            "desviación estandar: 0.816496580927726\n"
          ]
        }
      ]
    }
  ]
}