{
  "cells": [
    {
      "cell_type": "markdown",
      "metadata": {
        "id": "view-in-github",
        "colab_type": "text"
      },
      "source": [
        "<a href=\"https://colab.research.google.com/github/VilchisKarla/SIMULACION-I/blob/main/Aplicacion_Flecha.ipynb\" target=\"_parent\"><img src=\"https://colab.research.google.com/assets/colab-badge.svg\" alt=\"Open In Colab\"/></a>"
      ]
    },
    {
      "cell_type": "markdown",
      "source": [
        "*VILCHIS GARCÍA KARLA IVONNE*\n",
        "\n",
        "Ejercicio 5.4"
      ],
      "metadata": {
        "id": "M9obUo2JZMye"
      },
      "id": "M9obUo2JZMye"
    },
    {
      "cell_type": "markdown",
      "id": "a5cc0a87",
      "metadata": {
        "id": "a5cc0a87"
      },
      "source": [
        "# Metodología de la Simulación"
      ]
    },
    {
      "cell_type": "markdown",
      "id": "51ce3fa1",
      "metadata": {
        "id": "51ce3fa1"
      },
      "source": [
        "## Ejercicio\n",
        "Una flecha será ensamblada en un cojinete como se muestra a continuación:\n",
        "\n",
        "(Imagen de un eje y un cojinete con dimensiones\n",
        "𝑋1 y  𝑋2)\n",
        "\n",
        "Si  𝑋1 sigue una distribución normal con media 1.5 y varianza 0.0016, y 𝑋2\n",
        "  sigue esta misma distribución con media 1.48 y varianza 0.0009, determine:\n",
        "\n",
        "    a) La probabilidad de que haya interferencia.\n",
        "\n",
        "    b) El número de veces que es necesario simular el experimento, si se quiere que la probabilidad de interferencia estimada difiera de su valor verdadero en menos de 0.01, con un nivel de seguridad del 95%."
      ]
    },
    {
      "cell_type": "markdown",
      "source": [
        "# **a)**"
      ],
      "metadata": {
        "id": "Xk851GGPelru"
      },
      "id": "Xk851GGPelru"
    },
    {
      "cell_type": "markdown",
      "id": "fbbc8571",
      "metadata": {
        "id": "fbbc8571"
      },
      "source": [
        "**PASO 1**. Defina las variables que intervienen en el modelo.\n",
        "\n",
        "$$\\chi_1 \\sim N(1.5,0.04)$$\n",
        "$$\\chi_2 \\sim N(1.48,0.03)$$"
      ]
    },
    {
      "cell_type": "markdown",
      "id": "4d3899f3",
      "metadata": {
        "id": "4d3899f3"
      },
      "source": [
        "**PASO 2**. Formule la distribución de probabilidad de cada variable.\n",
        "\n",
        "$$\\chi_1 \\sim f(x)=\\frac{1}{\\sqrt{2\\pi}(0.04)}e^{\\frac{-(x-1.5)^2}{2(0.0016)}}$$\n",
        "\n",
        "$$\\chi_2 \\sim f(x)=\\frac{1}{\\sqrt{2\\pi}(0.03)}e^{\\frac{-(x-1.48)^2}{2(0.0009)}}$$"
      ]
    },
    {
      "cell_type": "markdown",
      "id": "fd02116a",
      "metadata": {
        "id": "fd02116a"
      },
      "source": [
        "**PASO 3**. Enumere la distribución acumulada de probabilidad de cada variable.\n",
        "\n",
        "Tenemos 3 posibles métodos: **12 uniformes, aproximacón para una distribución normal y Box-Muller**\n",
        "\n",
        "\n",
        "*   **NO** usaremos las 12 uniformes porque se necesitan de 12 números aleatorios y eso haría ineficiente nuestro código.\n",
        "*   **NO** usaremos la aproximación por una distribución normal porque no es precisa para pequeñas muestras.\n",
        "*   **Usaremos** Box-Muller por la velocidad y precisión favorable que nos brinda al generar 2 desviaciones normales a partir de 2 números aleatorios.\n",
        "\n",
        "**Pseudocódigo**\n",
        "\n",
        "1. Generar $U_1, U_2  \\sim U(0,1)$\n",
        "\n",
        "2. Hacer: $\\quad R=\\sqrt{-2lnU_1}\\qquad , \\qquad \\theta=2\\pi  U_2$\n",
        "\n",
        "3. Hacer: $\\quad X=Rcos(\\theta) \\qquad ,\\quad Y=Rsen(\\theta)$\n",
        "\n",
        "4. Salida: $X,Y$\n",
        "\n",
        "\n",
        "\n"
      ]
    },
    {
      "cell_type": "code",
      "source": [
        "#en este caso ocuparemos una paquetería que ya devuelve numeros aleatorios bajo una distribución normal.\n",
        "import numpy as np\n",
        "import random\n",
        "\n",
        "x1=np.random.normal(1.5,0.04,1)\n",
        "x2=np.random.normal(1.48,0.03,1)"
      ],
      "metadata": {
        "id": "JWjLCKuHdaBg"
      },
      "id": "JWjLCKuHdaBg",
      "execution_count": null,
      "outputs": []
    },
    {
      "cell_type": "markdown",
      "id": "4852dcac",
      "metadata": {
        "id": "4852dcac"
      },
      "source": [
        "**PASO 4**. Establezca el intervalo de números aleatorios correspondiente a cada valor de cada una de las variables.\n",
        "\n",
        "condición de interferencia:\n",
        "$$\\chi_2 \\geq \\chi_1$$\n",
        "\n",
        "Buscamos $P(\\chi_2 \\geq \\chi_1)$"
      ]
    },
    {
      "cell_type": "markdown",
      "id": "edb6b074",
      "metadata": {
        "id": "edb6b074"
      },
      "source": [
        "**PASO 5**. Genere números aleatorios."
      ]
    },
    {
      "cell_type": "code",
      "execution_count": null,
      "id": "7d56c432",
      "metadata": {
        "id": "7d56c432"
      },
      "outputs": [],
      "source": [
        "import numpy as np\n",
        "import random\n",
        "'''\n",
        "definimos nuestro experimento que será calcular n numeros aleatorios y los que\n",
        "cumplan la condición de interferencia se van sumando para obtener la probabilidad\n",
        "de que haya interferencia.\n",
        "'''\n",
        "def experimento(n):\n",
        "    sum=0 #definimos el contador para los números que cumplan tener interferencia\n",
        "    for _  in range(n):#ciclo para los n números\n",
        "        x1=np.random.normal(1.5,0.04,1)\n",
        "        x2=np.random.normal(1.48,0.03,1)\n",
        "        if x2>=x1:#condición de interferencia\n",
        "            sum+=1\n",
        "    prob=sum/n\n",
        "    return prob"
      ]
    },
    {
      "cell_type": "markdown",
      "id": "f38f3396",
      "metadata": {
        "id": "f38f3396"
      },
      "source": [
        "**PASO 6**. Repetir M veces el experimento"
      ]
    },
    {
      "cell_type": "code",
      "execution_count": null,
      "id": "Q0LeXJemxFd6",
      "metadata": {
        "id": "Q0LeXJemxFd6",
        "colab": {
          "base_uri": "https://localhost:8080/"
        },
        "outputId": "d9812e5c-4887-4aef-b44b-9264474b6675"
      },
      "outputs": [
        {
          "output_type": "stream",
          "name": "stdout",
          "text": [
            "MEDIA Muestra: 0.3451212633193687\n",
            "VARIANZA Muestra 0.0019872390683342853\n",
            "DESVIACIÓN ESTÁNDAR Muestra 0.04457845969001492\n"
          ]
        }
      ],
      "source": [
        "'''\n",
        "Repetimos el experimento m veces para obtener una lista de probabilidades y\n",
        "poder hacer estadística\n",
        "'''\n",
        "def muestra(m):\n",
        "    lista=[]\n",
        "    for i in range(m):\n",
        "        d =experimento(i+1)\n",
        "        lista.append(d)\n",
        "    return lista\n",
        "\n",
        "n = 10\n",
        "B=muestra(1000)\n",
        "print('MEDIA Muestra:',np.mean(B))\n",
        "print('VARIANZA Muestra:', np.var(B))\n",
        "print('DESVIACIÓN ESTÁNDAR Muestra:', np.std(B))"
      ]
    },
    {
      "cell_type": "markdown",
      "id": "d270399e",
      "metadata": {
        "id": "d270399e"
      },
      "source": [
        "**PASO 7**. Obtenga la gráfica de estabilización que indica que el tamaño de muestra utilizado es suficiente para\n",
        "garantizar la convergencia del resultado."
      ]
    },
    {
      "cell_type": "code",
      "source": [
        "import matplotlib.pyplot as plt\n",
        "#Graficamos la media y varianza de la muestra\n",
        "plt.plot(B)\n",
        "plt.xlabel('iteraciones')\n",
        "plt.ylabel('p')\n",
        "plt.title('Probabilidad')\n",
        "plt.axhline(y=np.mean(B), color='r', label=\"media:\")\n",
        "plt.axhline(y=np.mean(B)+np.std(B),color='cyan', linestyle='--', label=\"Varianza\")\n",
        "plt.axhline(y=np.mean(B)-np.std(B), color='cyan', linestyle='--')\n",
        "plt.show()"
      ],
      "metadata": {
        "colab": {
          "base_uri": "https://localhost:8080/",
          "height": 472
        },
        "id": "IibQVQ_Jgu2l",
        "outputId": "7a37c59c-cba4-40ec-9355-e944be360de3"
      },
      "id": "IibQVQ_Jgu2l",
      "execution_count": null,
      "outputs": [
        {
          "output_type": "display_data",
          "data": {
            "text/plain": [
              "<Figure size 640x480 with 1 Axes>"
            ],
            "image/png": "[encoded data removed]"
          },
          "metadata": {}
        }
      ]
    },
    {
      "cell_type": "code",
      "execution_count": null,
      "id": "2fd22e33",
      "metadata": {
        "colab": {
          "base_uri": "https://localhost:8080/",
          "height": 430
        },
        "id": "2fd22e33",
        "outputId": "f1bae710-6bcc-4cc1-c5f2-fead6bf3d93b"
      },
      "outputs": [
        {
          "output_type": "display_data",
          "data": {
            "text/plain": [
              "<Figure size 640x480 with 1 Axes>"
            ],
            "image/png": "[encoded data removed]"
          },
          "metadata": {}
        }
      ],
      "source": [
        "import matplotlib.pyplot as plt\n",
        "#tomamos la media acumulada para visualizar de mejor manera la cantidad de\n",
        "#muestras que necesitamos para tener datos más acertados\n",
        "media_acumulada = np.cumsum(B) / np.arange(1, 1000 + 1)\n",
        "plt.plot(media_acumulada, label='Media acumulada')\n",
        "plt.axhline(y=np.mean(B), color='r', linestyle='--', label='Media final')\n",
        "plt.show()"
      ]
    },
    {
      "cell_type": "markdown",
      "id": "f596fcd1",
      "metadata": {
        "id": "f596fcd1"
      },
      "source": [
        "**PASO 8**. Replique el modelo."
      ]
    },
    {
      "cell_type": "code",
      "execution_count": null,
      "id": "b237f0d0",
      "metadata": {
        "id": "b237f0d0"
      },
      "outputs": [],
      "source": [
        "#Replicamos el modelo las repeticiones que deseemos y obtendremos una distribución normal\n",
        "def simulacion(repeticiones):\n",
        "    List = []\n",
        "    for i in range(repeticiones):\n",
        "        List.append(np.mean(experimento(1000)))\n",
        "    return List"
      ]
    },
    {
      "cell_type": "code",
      "execution_count": null,
      "id": "d060db89",
      "metadata": {
        "id": "d060db89"
      },
      "outputs": [],
      "source": [
        "sim = simulacion(500)"
      ]
    },
    {
      "cell_type": "code",
      "execution_count": null,
      "id": "cc0b958d",
      "metadata": {
        "id": "cc0b958d",
        "colab": {
          "base_uri": "https://localhost:8080/",
          "height": 472
        },
        "outputId": "9fd052f5-3c59-4246-f15b-fd39a2ef53cf"
      },
      "outputs": [
        {
          "output_type": "display_data",
          "data": {
            "text/plain": [
              "<Figure size 640x480 with 1 Axes>"
            ],
            "image/png": "[encoded data removed]"
          },
          "metadata": {}
        }
      ],
      "source": [
        "#graficamos el histograma\n",
        "plt.hist(sim, bins=80)\n",
        "plt.xlabel('iteraciones')\n",
        "plt.ylabel('p')\n",
        "plt.title('Probabilidad')\n",
        "plt.show()"
      ]
    },
    {
      "cell_type": "markdown",
      "id": "6e9bd469",
      "metadata": {
        "id": "6e9bd469"
      },
      "source": [
        "**PASO 9**. Calcule la probabilidad de interferencia y su desviación\n",
        "estándar."
      ]
    },
    {
      "cell_type": "code",
      "execution_count": null,
      "id": "dbeb0461",
      "metadata": {
        "id": "dbeb0461",
        "colab": {
          "base_uri": "https://localhost:8080/"
        },
        "outputId": "1bf27a1c-9c9a-4631-aa91-4b4359b9ba09"
      },
      "outputs": [
        {
          "output_type": "stream",
          "name": "stdout",
          "text": [
            "MEDIA: 0.34467\n",
            "VARIANZA 0.00023146909999999972\n",
            "DESVIACIÓN ESTÁNDAR 0.015214108583811269\n"
          ]
        }
      ],
      "source": [
        "print('MEDIA:',np.mean(sim))\n",
        "print('VARIANZA', np.var(sim))\n",
        "print('DESVIACIÓN ESTÁNDAR', np.std(sim))"
      ]
    },
    {
      "cell_type": "markdown",
      "metadata": {
        "id": "l0A4p09WJzzB"
      },
      "source": [
        ":**PASO 10**. Halle el intervalo de confianza de la probabilidad de que haya interfere con un nivel de confianza del $95 \\%$.\n",
        "\n",
        "Ocupamos\n",
        "\n",
        "$$\\bar{x} \\pm z\\cdot \\frac{\\sigma}{\\sqrt{n}}$$\n",
        "\n",
        "Para ello ocupamos la solución analítica"
      ],
      "id": "l0A4p09WJzzB"
    },
    {
      "cell_type": "markdown",
      "source": [
        "## Solución analitica"
      ],
      "metadata": {
        "id": "PXdgcPpbKQM2"
      },
      "id": "PXdgcPpbKQM2"
    },
    {
      "cell_type": "markdown",
      "source": [
        "$$\\chi_1 \\sim N(1.5,0.04)$$\n",
        "$$\\chi_2 \\sim N(1.48,0.03)$$\n",
        "\n",
        "interferencia $\\qquad \\qquad \\qquad \\chi_2 \\geq \\chi_1$\n",
        "\n",
        "Queremos calcular $P(\\chi_2 \\geq \\chi_1)$\n",
        "\n",
        "Definimos una nueva variable dado que $\\chi_1$ y $\\chi_2$ siguen una distribución normal\n",
        "\n",
        "y como tenemos que: $\\chi_2 \\geq \\chi_1$\n",
        "\n",
        "Entonces\n",
        "$$Y \\sim N(\\mu_y,\\sigma_y)$$\n",
        "\n",
        "$$Y=\\chi_2 - \\chi_1 \\geq 0$$\n",
        "\n",
        "Por lo tanto\n",
        "$$\\mu_y=\\mu_2-\\mu_1=1.48-1.5=-0.02$$\n",
        "$$\\sigma_y=\\sqrt{\\sigma_1^2+\\sigma_2^2}=\\sqrt{0.0016+0.0009}=0.05$$\n",
        "\n",
        "$$\\therefore Y\\sim N(0.05,-0.02)$$\n",
        "\n",
        "Finalmente obtenemos\n",
        "\n",
        "\n",
        "```\n",
        "v=scipy.stats.norm.cdf(0.05,-0.02)\n",
        "```\n",
        "\n",
        "\n",
        "$1-v=P(Y \\geq 0) = P(\\chi_2 - \\chi_1 \\geq 0)=\\int_0^{\\chi_2 - \\chi_1}\\frac{1}{\\sqrt{2\\pi}(0.05)}e^{\\frac{-(x+0.2)^2}{2(0.0025)}}$\n",
        "\n"
      ],
      "metadata": {
        "id": "W1eedy-_J3Iq"
      },
      "id": "W1eedy-_J3Iq"
    },
    {
      "cell_type": "code",
      "source": [
        "import scipy.stats\n",
        "\n",
        "prob = 1 - scipy.stats.norm.cdf(0, -0.02,0.05)\n",
        "print(prob)\n"
      ],
      "metadata": {
        "colab": {
          "base_uri": "https://localhost:8080/"
        },
        "id": "qJoPN9WzL_tV",
        "outputId": "c499136b-bb88-4a08-a6ef-59e9070e128c"
      },
      "id": "qJoPN9WzL_tV",
      "execution_count": null,
      "outputs": [
        {
          "output_type": "stream",
          "name": "stdout",
          "text": [
            "0.3445782583896758\n"
          ]
        }
      ]
    },
    {
      "cell_type": "markdown",
      "source": [
        "# **b)**"
      ],
      "metadata": {
        "id": "g8jqrxikewYc"
      },
      "id": "g8jqrxikewYc"
    },
    {
      "cell_type": "markdown",
      "source": [
        "El número de veces que es necesario simular el experimento, si se quiere que la probabilidad de interferencia estimada difiera de su valor verdadero en menos de 0.01, con un nivel de seguridad del 95% ($\\alpha/2=1.96$).\n",
        "\n",
        "\n",
        "Para ello observamos la grafica del paso 7 donde podemos determinar el tamaño de muestra suficiente para garantizar la convergencia del resultado. En este caso, podemos ver que basta con 400 intentos para una buena convergencia, es decir, será suficiente repetir nuestro expermineto 400 veces para que difiera con un error minimo a su valor verdadero."
      ],
      "metadata": {
        "id": "QTTO-a1ke0Ym"
      },
      "id": "QTTO-a1ke0Ym"
    },
    {
      "cell_type": "markdown",
      "id": "db8776d2",
      "metadata": {
        "id": "db8776d2"
      },
      "source": [
        ":**PASO 10**. Halle el intervalo de confianza de la probabilidad de que haya interfere con un nivel de confianza del $95 \\%$.\n",
        "\n",
        "Ocupamos\n",
        "\n",
        "$$\\bar{x} \\pm z\\cdot \\frac{\\sigma}{\\sqrt{n}} $$\n",
        "intervalo de aceptación\n",
        "$$\\bar{x}\\pm \\frac{2\\sigma z_{\\alpha/2}}{\\sqrt{n}}$$\n",
        "Para ello ocupamos la solución analítica"
      ]
    },
    {
      "cell_type": "code",
      "execution_count": null,
      "id": "e5132329",
      "metadata": {
        "id": "e5132329",
        "colab": {
          "base_uri": "https://localhost:8080/"
        },
        "outputId": "98e91537-1c84-43d7-a348-2a7aacb6087e"
      },
      "outputs": [
        {
          "output_type": "stream",
          "name": "stdout",
          "text": [
            "Intervalo de confianza del 95%: (0.3348, 0.3544)\n"
          ]
        }
      ],
      "source": [
        "h = 400\n",
        "z = 1.96  # para 95% de confianza\n",
        "desviacion = 0.05\n",
        "media = prob\n",
        "\n",
        "# Error estándar\n",
        "error_estandar = desviacion / np.sqrt(h)\n",
        "\n",
        "# Intervalo de confianza\n",
        "limite_inferior = media - (z *2*desviacion)/np.sqrt(h)\n",
        "limite_superior = media + (z *2*desviacion)/np.sqrt(h)\n",
        "\n",
        "print(f\"Intervalo de confianza del 95%: ({limite_inferior:.4f}, {limite_superior:.4f})\")\n"
      ]
    },
    {
      "cell_type": "code",
      "source": [
        "# Histograma con líneas del intervalo de confianza\n",
        "plt.hist(sim, bins=80)\n",
        "plt.axvline(limite_inferior, color='red', linestyle='--', label='Límite inferior IC 95%')\n",
        "plt.axvline(limite_superior, color='red', linestyle='--', label='Límite superior IC 95%')\n",
        "plt.axvline(media, color='green', linestyle='-', label='Media')\n",
        "plt.xlabel('Probabilidad de interferencia')\n",
        "plt.ylabel('Frecuencia')\n",
        "plt.title('Distribución de la probabilidad estimada y su IC 95%')\n",
        "plt.legend()\n",
        "plt.show()"
      ],
      "metadata": {
        "colab": {
          "base_uri": "https://localhost:8080/",
          "height": 472
        },
        "id": "dzSWlKm2pAk5",
        "outputId": "0f89f8cd-2f8c-470f-ab4d-ff7ed4059e6a"
      },
      "id": "dzSWlKm2pAk5",
      "execution_count": null,
      "outputs": [
        {
          "output_type": "display_data",
          "data": {
            "text/plain": [
              "<Figure size 640x480 with 1 Axes>"
            ],
            "image/png": "[encoded data removed]"
          },
          "metadata": {}
        }
      ]
    }
  ],
  "metadata": {
    "colab": {
      "provenance": [],
      "include_colab_link": true
    },
    "kernelspec": {
      "display_name": "Python 3 (ipykernel)",
      "language": "python",
      "name": "python3"
    },
    "language_info": {
      "codemirror_mode": {
        "name": "ipython",
        "version": 3
      },
      "file_extension": ".py",
      "mimetype": "text/x-python",
      "name": "python",
      "nbconvert_exporter": "python",
      "pygments_lexer": "ipython3",
      "version": "3.7.3"
    }
  },
  "nbformat": 4,
  "nbformat_minor": 5
}