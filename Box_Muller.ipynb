{
  "nbformat": 4,
  "nbformat_minor": 0,
  "metadata": {
    "colab": {
      "provenance": [],
      "authorship_tag": "ABX9TyPjFxoLy+hjuoNjqAsjzXPX",
      "include_colab_link": true
    },
    "kernelspec": {
      "name": "python3",
      "display_name": "Python 3"
    },
    "language_info": {
      "name": "python"
    }
  },
  "cells": [
    {
      "cell_type": "markdown",
      "metadata": {
        "id": "view-in-github",
        "colab_type": "text"
      },
      "source": [
        "<a href=\"https://colab.research.google.com/github/VilchisKarla/SIMULACION-I/blob/main/Box_Muller.ipynb\" target=\"_parent\"><img src=\"https://colab.research.google.com/assets/colab-badge.svg\" alt=\"Open In Colab\"/></a>"
      ]
    },
    {
      "cell_type": "markdown",
      "source": [
        "# **Método Box-Muller**\n",
        "Vilchis García Karla Ivonne\n",
        "\n",
        "\n",
        "---\n",
        "\n",
        "Es un método para generar desviaciones normales a partir de 2 números aleatorios, ofreciendo mayor precisión y velocidad favorable.\n",
        "\n",
        "\n",
        "1. Generar $U_1, U_2  \\sim U(0,1)$\n",
        "\n",
        "2. Hacer: $\\quad R=\\sqrt{-2lnU_1}\\qquad , \\qquad \\theta=2\\pi  U_2$\n",
        "\n",
        "3. Hacer: $\\quad X=Rcos(\\theta) \\qquad ,\\quad Y=Rsen(\\theta)$\n",
        "\n",
        "4. Salida: $X,Y$\n",
        "\n",
        "\n",
        "---\n",
        "## **Desarrollo del método:**\n",
        "\n",
        "Dados $U_1, U_2 \\sim U(0,1)$ v.a. independientes\n",
        "\n",
        "tomando $R=\\sqrt{-2lnU_1}\\quad$ y $\\quad \\theta=2\\pi U_2$\n",
        "$$X=Rcos(\\theta) \\qquad - - - - -(1)$$\n",
        "$$Y=Rsen(\\theta) \\qquad - - - - -(1)$$\n",
        "$$\\mu=0 \\qquad \\sigma^2=1$$\n",
        "\n",
        "dado que tienen la forma polar, podemos obtener las relaciones inversas, ya que sabemos lo siguiente:\n",
        "$$R=\\sqrt{X^2+Y^2}$$\n",
        "$$⇒ \\quad -2lnU_1=X^2+Y^2$$\n",
        "$$\\therefore \\quad U_1=e^{-\\frac{X^2+Y^2}{2}}$$\n",
        "\n",
        "Ahora\n",
        "$$\\theta = arctan(\\frac{Y}{X})$$\n",
        "$$⇒ \\quad 2\\pi U_2=arctan(\\frac{Y}{X})$$\n",
        "$$\\therefore \\quad U_2=\\frac{1}{2\\pi}arctan(\\frac{Y}{X})$$\n",
        "\n",
        "Así para la densidad conjunta, sabemos que $U_1 \\quad y \\quad U_2$  son independientes y uniformes\n",
        "$⇒ \\quad f(U_1,U_2)=1$\n",
        "\n",
        "Ahora, usando: $f(X,Y)=f(U_1,U_2)\\cdot |det J^{-1}|$\n",
        "\n",
        "$$f(X,Y)=\\frac{1}{2\\pi}e^{-\\frac{X^2+Y^2}{2}}=\\frac{1}{2\\pi}e^{-\\frac{X^2}{2}}⋅ \\frac{1}{2\\pi}e^{-\\frac{Y^2}{2}}=f(X)f(Y)$$\n",
        "\n",
        "Nota: la densidad $f(X,Y)$ es constante en círculos, así $\\theta=\\frac{Y}{X}$ se distribuye uniformemente en (0,2π), R^2=x^2+y^2 tiene distribución χ^2 con 2 grados de libertad.\n",
        "\n",
        "     \n",
        "\n",
        "*   Si U ∈ (0,1) ⇒ -2lnU tiene distribución χ^2 con 2 grados de libertad (procediendo de manera inversa llegamos a (1))\n",
        "\n",
        "\n",
        "\n",
        "\n",
        "---\n",
        "\n",
        "## **Generalización**\n",
        "\n",
        "De la distribución χ^2 con 2k grados de libertad se pueden generar sumando los k términos\n",
        "$$\\sum_{i=1}^k (-2lnU_i)$$\n",
        "\n",
        "Para k+1 grados de libertad se puede añadir el cuadrado de una desviación normal generada por el método anterior\n",
        "\n",
        "\n",
        "\n",
        "---\n",
        "\n",
        "## **Surguimiento del método**\n",
        "Surge del deseo de generar desviaciones normales que fueran confiables en las colas de la distribución, dado que la mayoría de computadoras cuenta con bibliotecas de programación como funciones: trigonométricas, logs, raíces, etc. Este enfoque requiere poca programación adicional.\n",
        "\n",
        "La precisión dependerá esencialmente de la exactitud de las bibliotecas."
      ],
      "metadata": {
        "id": "FGhVUQdcDzPz"
      }
    },
    {
      "cell_type": "code",
      "execution_count": 1,
      "metadata": {
        "id": "YF9RrrNe_qXZ"
      },
      "outputs": [],
      "source": [
        "import random as rd\n",
        "import numpy as np\n",
        "import matplotlib.pyplot as plt"
      ]
    },
    {
      "cell_type": "code",
      "source": [
        "def BM(n):\n",
        "    lista=[]\n",
        "    for _ in range(n):\n",
        "        u1=rd.random()\n",
        "        u2=rd.random()\n",
        "        r = np.sqrt(-2*np.log(u1))\n",
        "        theta=2*np.pi*u2\n",
        "        x=r*np.cos(theta)\n",
        "        y=r*np.sin(theta)\n",
        "        lista.append(x)\n",
        "        lista.append(y)\n",
        "    return lista"
      ],
      "metadata": {
        "id": "R5Onz1d__9iJ"
      },
      "execution_count": 2,
      "outputs": []
    },
    {
      "cell_type": "code",
      "source": [
        "xy = BM(100000)"
      ],
      "metadata": {
        "id": "kbMhIUGaAnSC"
      },
      "execution_count": 3,
      "outputs": []
    },
    {
      "cell_type": "markdown",
      "source": [
        "**Valores teóricos**\n",
        "\n",
        "$\\mu = 0$\n",
        "\n",
        "$σ^2 = 1 \\quad ⇒ \\quad  σ=1$"
      ],
      "metadata": {
        "id": "A4ZNW2516AAE"
      }
    },
    {
      "cell_type": "code",
      "source": [
        "print(\"media x:\", np.mean(xy))\n",
        "print(\"varianza x:\", np.var(xy))\n",
        "print(\"desviación estandar x:\", np.std(xy))"
      ],
      "metadata": {
        "colab": {
          "base_uri": "https://localhost:8080/"
        },
        "id": "4e6WIFmsAtei",
        "outputId": "55501fb8-34a5-44ac-fcc9-594115f3761e"
      },
      "execution_count": 4,
      "outputs": [
        {
          "output_type": "stream",
          "name": "stdout",
          "text": [
            "media x: 0.0008447451753190168\n",
            "varianza x: 0.9996671531790514\n",
            "desviación estandar x: 0.9998335627388447\n"
          ]
        }
      ]
    },
    {
      "cell_type": "code",
      "source": [
        "#gráfica\n",
        "plt.hist(xy, bins=100, color='purple')\n",
        "plt.show()"
      ],
      "metadata": {
        "colab": {
          "base_uri": "https://localhost:8080/",
          "height": 430
        },
        "id": "hzHRXgaVBTUA",
        "outputId": "c9bc1c9e-16fd-4206-f62c-a4beb6077338"
      },
      "execution_count": 5,
      "outputs": [
        {
          "output_type": "display_data",
          "data": {
            "text/plain": [
              "<Figure size 640x480 with 1 Axes>"
            ],
            "image/png": "[encoded data removed]"
          },
          "metadata": {}
        }
      ]
    }
  ]
}