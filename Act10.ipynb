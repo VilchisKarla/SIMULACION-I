{
  "cells": [
    {
      "cell_type": "markdown",
      "metadata": {
        "id": "view-in-github",
        "colab_type": "text"
      },
      "source": [
        "<a href=\"https://colab.research.google.com/github/VilchisKarla/SIMULACION-I/blob/main/Act10.ipynb\" target=\"_parent\"><img src=\"https://colab.research.google.com/assets/colab-badge.svg\" alt=\"Open In Colab\"/></a>"
      ]
    },
    {
      "cell_type": "markdown",
      "id": "a5cc0a87",
      "metadata": {
        "id": "a5cc0a87"
      },
      "source": [
        "# Metodología de la Simulación\n",
        "\n",
        "Vilchis García Karla Ivonne\n",
        "\n",
        "\n",
        "---\n",
        "\n"
      ]
    },
    {
      "cell_type": "markdown",
      "id": "51ce3fa1",
      "metadata": {
        "id": "51ce3fa1"
      },
      "source": [
        "## Ejercicio\n",
        "Dos personas han quedado citas en un determinado lugar. Ambas tienen la mismaprobabilidad de llegar al lugar de la cita en el intervalo de tiempo [0, 30] (minutos).Determínese la probabilidad de que el tiempo que una persona espere a la otra seacomo máximo 10 minutos."
      ]
    },
    {
      "cell_type": "markdown",
      "id": "fbbc8571",
      "metadata": {
        "id": "fbbc8571"
      },
      "source": [
        "**PASO 1**. Defina las variables que intervienen en el modelo.\n",
        "\n",
        "$\\chi:$ tiempo de llegada de cada\n",
        "$$\\chi_1 \\sim U(0,30)$$\n",
        "$$\\chi_2 \\sim U(0,30)$$"
      ]
    },
    {
      "cell_type": "markdown",
      "id": "4d3899f3",
      "metadata": {
        "id": "4d3899f3"
      },
      "source": [
        "**PASO 2**. Formule la distribución de probabilidad de cada variable.\n",
        "\n",
        "$a=0, b=30$\n",
        "\n",
        "$$\\chi_1 \\sim f(x)=\\frac{1}{b-a}=\\frac{1}{30}  \\qquad \\forall \\chi_1 \\in [a,b]$$\n",
        "\n",
        "$$\\chi_2 \\sim f(x)=\\frac{1}{b-a}=\\frac{1}{30} \\qquad \\forall  \\chi_2 \\in [a,b]$$"
      ]
    },
    {
      "cell_type": "markdown",
      "id": "fd02116a",
      "metadata": {
        "id": "fd02116a"
      },
      "source": [
        "**PASO 3**. Enumere la distribución acumulada de probabilidad de cada variable.\n",
        "\n",
        "$F(\\chi_1)=\\int_{-\\infty}^{\\chi_1}f(t)dt=\\frac{\\chi_1}{30}$\n",
        "\n",
        "$F(\\chi_2)=\\int_{-\\infty}^{\\chi_2}f(t)dt=\\frac{\\chi_2}{30}$\n",
        "\n"
      ]
    },
    {
      "cell_type": "markdown",
      "id": "4852dcac",
      "metadata": {
        "id": "4852dcac"
      },
      "source": [
        "**PASO 4**. Establezca el intervalo de números aleatorios correspondiente a cada valor de cada una de las variables.\n",
        "\n",
        "condición de diferencia de tiempo:\n",
        "$$|\\chi_1 - \\chi_2 | \\leq 10$$\n",
        "\n",
        "Buscamos $P(|\\chi_1 - \\chi_2 | \\leq 10)$"
      ]
    },
    {
      "cell_type": "markdown",
      "id": "edb6b074",
      "metadata": {
        "id": "edb6b074"
      },
      "source": [
        "**PASO 5**. Genere números aleatorios."
      ]
    },
    {
      "cell_type": "code",
      "execution_count": 5,
      "id": "7d56c432",
      "metadata": {
        "id": "7d56c432",
        "colab": {
          "base_uri": "https://localhost:8080/"
        },
        "outputId": "b2c270d2-2b8a-4cf0-d09d-97bf44c66e7b"
      },
      "outputs": [
        {
          "output_type": "stream",
          "name": "stdout",
          "text": [
            "0.5713333333333334\n"
          ]
        }
      ],
      "source": [
        "import random\n",
        "def experimento(n):\n",
        "    exitos=0\n",
        "    for i  in range(n):\n",
        "        X=random.uniform(0,30)\n",
        "        Y=random.uniform(0,30)\n",
        "        if abs(X-Y)<=10:\n",
        "            exitos+=1\n",
        "    prob=exitos/n\n",
        "    return prob\n",
        "#Ejemplo\n",
        "n=1500\n",
        "A=experimento(n)\n",
        "print(A)"
      ]
    },
    {
      "cell_type": "markdown",
      "id": "f38f3396",
      "metadata": {
        "id": "f38f3396"
      },
      "source": [
        "**PASO 6**. Repetir M veces el experimento"
      ]
    },
    {
      "cell_type": "code",
      "execution_count": 6,
      "id": "Q0LeXJemxFd6",
      "metadata": {
        "id": "Q0LeXJemxFd6",
        "colab": {
          "base_uri": "https://localhost:8080/"
        },
        "outputId": "1cc323cd-6da8-4a3f-9a58-9e4514892d57"
      },
      "outputs": [
        {
          "output_type": "stream",
          "name": "stdout",
          "text": [
            "MEDIA Muestra: 0.55604188274461\n",
            "VARIANZA Muestra: 0.0009896413270532453\n",
            "DESVIACIÓN ESTÁNDAR Muestra: 0.031458565241492584\n"
          ]
        }
      ],
      "source": [
        "import numpy as np\n",
        "def muestra(m):\n",
        "    lista =[]\n",
        "    for i in range(m):\n",
        "        d =experimento(i+1)\n",
        "        lista.append(d)\n",
        "    return lista\n",
        "\n",
        "n = 1000\n",
        "B=muestra(2000)\n",
        "print('MEDIA Muestra:',np.mean(B))\n",
        "print('VARIANZA Muestra:', np.var(B))\n",
        "print('DESVIACIÓN ESTÁNDAR Muestra:', np.std(B))"
      ]
    },
    {
      "cell_type": "markdown",
      "id": "d270399e",
      "metadata": {
        "id": "d270399e"
      },
      "source": [
        "**PASO 7**. Obtenga la gráfica de estabilización que indica que el tamaño de muestra utilizado es suficiente para\n",
        "garantizar la convergencia del resultado."
      ]
    },
    {
      "cell_type": "code",
      "source": [
        "import matplotlib.pyplot as plt\n",
        "plt.plot(B)\n",
        "plt.xlabel('iteraciones')\n",
        "plt.ylabel('p')\n",
        "plt.title('Probabilidad')\n",
        "plt.axhline(y=np.mean(B), color='r', label=\"media:\")\n",
        "plt.axhline(y=np.mean(B)+np.std(B),color='cyan', linestyle='--', label=\"Varianza\")\n",
        "plt.axhline(y=np.mean(B)-np.std(B), color='cyan', linestyle='--')\n",
        "plt.show()"
      ],
      "metadata": {
        "colab": {
          "base_uri": "https://localhost:8080/",
          "height": 472
        },
        "id": "IibQVQ_Jgu2l",
        "outputId": "6a0f0463-d0d3-4958-fd32-c8eeaa1ef162"
      },
      "id": "IibQVQ_Jgu2l",
      "execution_count": 8,
      "outputs": [
        {
          "output_type": "display_data",
          "data": {
            "text/plain": [
              "<Figure size 640x480 with 1 Axes>"
            ],
            "image/png": "[encoded data removed]"
          },
          "metadata": {}
        }
      ]
    },
    {
      "cell_type": "markdown",
      "id": "f596fcd1",
      "metadata": {
        "id": "f596fcd1"
      },
      "source": [
        "**PASO 8**. Replique el modelo."
      ]
    },
    {
      "cell_type": "code",
      "execution_count": 9,
      "id": "b237f0d0",
      "metadata": {
        "id": "b237f0d0"
      },
      "outputs": [],
      "source": [
        "#Replicamos el modelo las repeticiones que deseemos y obtendremos una distribución uniforme\n",
        "def simulacion(repeticiones):\n",
        "    List = []\n",
        "    for i in range(repeticiones):\n",
        "        List.append(np.mean(experimento(1000)))\n",
        "    return List"
      ]
    },
    {
      "cell_type": "code",
      "execution_count": 10,
      "id": "d060db89",
      "metadata": {
        "id": "d060db89"
      },
      "outputs": [],
      "source": [
        "sim = simulacion(500)"
      ]
    },
    {
      "cell_type": "markdown",
      "id": "6e9bd469",
      "metadata": {
        "id": "6e9bd469"
      },
      "source": [
        "**PASO 9**. Calcule la probabilidad de interferencia y su desviación\n",
        "estándar."
      ]
    },
    {
      "cell_type": "code",
      "execution_count": 12,
      "id": "dbeb0461",
      "metadata": {
        "id": "dbeb0461",
        "colab": {
          "base_uri": "https://localhost:8080/"
        },
        "outputId": "ba51169b-948a-48fb-baf6-71c341df3be9"
      },
      "outputs": [
        {
          "output_type": "stream",
          "name": "stdout",
          "text": [
            "MEDIA: 0.5539380000000002\n",
            "VARIANZA 0.00023058615599999926\n",
            "DESVIACIÓN ESTÁNDAR 0.015185063582349573\n"
          ]
        }
      ],
      "source": [
        "print('MEDIA:',np.mean(sim))\n",
        "print('VARIANZA', np.var(sim))\n",
        "print('DESVIACIÓN ESTÁNDAR', np.std(sim))"
      ]
    },
    {
      "cell_type": "markdown",
      "metadata": {
        "id": "l0A4p09WJzzB"
      },
      "source": [
        ":**PASO 10**. Halle el intervalo de confianza de la probabilidad de que haya interfere con un nivel de confianza del $95 \\%$.\n",
        "\n",
        "Ocupamos\n",
        "\n",
        "$$\\bar{x} \\pm z\\cdot \\frac{\\sigma}{\\sqrt{n}}$$\n",
        "\n",
        "Para ello ocupamos la solución analítica"
      ],
      "id": "l0A4p09WJzzB"
    },
    {
      "cell_type": "markdown",
      "source": [
        "## Solución analitica"
      ],
      "metadata": {
        "id": "PXdgcPpbKQM2"
      },
      "id": "PXdgcPpbKQM2"
    },
    {
      "cell_type": "markdown",
      "source": [
        "$\\chi:$ tiempo de llegada de cada\n",
        "$$\\chi_1 \\sim U(0,30)$$\n",
        "$$\\chi_2 \\sim U(0,30)$$\n",
        "\n",
        "condición de diferencia de tiempo:\n",
        "$$|\\chi_1 - \\chi_2 | \\leq 10$$\n",
        "\n",
        "Buscamos $P(|\\chi_1 - \\chi_2 | \\leq 10)$\n",
        "\n",
        "Notemos que el espacio muestral es:\n",
        "\n",
        "$$30\\times 30 = 900$$\n",
        "\n",
        "ahora, ocupando la condición\n",
        "$$|\\chi_1 - \\chi_2 | \\leq 10$$\n",
        "\n",
        "tenemo 2 casos\n",
        "    $$\\chi_2 > \\chi_1 +10$$\n",
        "    $$\\chi_1 > \\chi_2 +10$$\n",
        "\n",
        "\n",
        "\n",
        " veamos que se  forman 2 triángulos rectángulos donde se encuentran los elementos del espacio muestral que no están dentro de la región que necesitamos, enntonces el área  de estas regiones nos servirá para sacar el complemento y obtener la región que nos interesa:\n",
        "\n",
        " $$A=\\frac{20 \\times 20}{2}= 200$$   \n",
        "\n",
        " como son el triángulo superior e inferior tenemos $2A=400$\n",
        "\n",
        " como mencioné que calcularíamos el complemento tenemos: $900-400=500$\n",
        " Así la probabilidad será\n",
        " $$P(|\\chi_1 - \\chi_2 | \\leq 10)=\\frac{\\text{Area dentro del intervalo}}{\\text{Area Total}}=\\frac{500}{900}=\\frac{5}{9} \\approx 0.5555 = 55.55\\%$$\n",
        "\n",
        " Así tenemos que hay una probabilidad del 55.55% de que lleguen con a lo más 10 minutos de diferencia."
      ],
      "metadata": {
        "id": "W1eedy-_J3Iq"
      },
      "id": "W1eedy-_J3Iq"
    }
  ],
  "metadata": {
    "colab": {
      "provenance": [],
      "include_colab_link": true
    },
    "kernelspec": {
      "display_name": "Python 3 (ipykernel)",
      "language": "python",
      "name": "python3"
    },
    "language_info": {
      "codemirror_mode": {
        "name": "ipython",
        "version": 3
      },
      "file_extension": ".py",
      "mimetype": "text/x-python",
      "name": "python",
      "nbconvert_exporter": "python",
      "pygments_lexer": "ipython3",
      "version": "3.7.3"
    }
  },
  "nbformat": 4,
  "nbformat_minor": 5
}