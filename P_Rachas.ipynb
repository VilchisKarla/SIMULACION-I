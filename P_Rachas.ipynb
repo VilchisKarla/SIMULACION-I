{
  "nbformat": 4,
  "nbformat_minor": 0,
  "metadata": {
    "colab": {
      "provenance": [],
      "authorship_tag": "ABX9TyOrgZORa54tWi6BskosI5IJ",
      "include_colab_link": true
    },
    "kernelspec": {
      "name": "python3",
      "display_name": "Python 3"
    },
    "language_info": {
      "name": "python"
    }
  },
  "cells": [
    {
      "cell_type": "markdown",
      "metadata": {
        "id": "view-in-github",
        "colab_type": "text"
      },
      "source": [
        "<a href=\"https://colab.research.google.com/github/VilchisKarla/SIMULACION-I/blob/main/P_Rachas.ipynb\" target=\"_parent\"><img src=\"https://colab.research.google.com/assets/colab-badge.svg\" alt=\"Open In Colab\"/></a>"
      ]
    },
    {
      "cell_type": "markdown",
      "source": [
        "# **Prueba de rachas**\n",
        "\n",
        "*Vilchis García Karla Ivonne*\n",
        "\n",
        "---\n",
        "\n",
        "\n",
        "1.   Determinar la secuencia de \"1\" y \"0\" (tendrá n-1 términoos)\n",
        "\n",
        "      * generando 0 si x[i] < x[i-1]\n",
        "\n",
        "      * generando 1 si x[i] > x[i-1]\n",
        "\n",
        "\n",
        "2.   Hallar el número de corridas observadas **Co**\n",
        "\n",
        "        una corrida está dada por grupos  de 1 o 0 consecutivos\n",
        "\n",
        "3.   calcular el valor esperado y la varianza del número de corridas,así como **Zo**  \n",
        "\n",
        "     *  𝛍=(2n-1)/3\n",
        "\n",
        "     *  σˆ2=(16n-29)/90\n",
        "\n",
        "     * Zo=(Co-𝛍)/σ\n",
        "\n",
        "---\n",
        "\n",
        "el intervalo  de aceptación es:\n",
        "\n",
        "        -Z_α/2 ≤ Zo ≤ Z_α/2"
      ],
      "metadata": {
        "id": "9NS1Wpn2FxUX"
      }
    },
    {
      "cell_type": "code",
      "execution_count": 30,
      "metadata": {
        "id": "zeZwXmEaFvxr"
      },
      "outputs": [],
      "source": [
        "import scipy.stats as stats\n",
        "import tabulate\n",
        "\n",
        "muestra = [0.347, 0.993, 0.674, 0.426, 0.46, 0.189, 0.112, 0.37, 0.909, 0.178,\n",
        "    0.832, 0.371, 0.628, 0.054, 0.224, 0.753, 0.191, 0.314, 0.764, 0.516,\n",
        "    0.966, 0.729, 0.055, 0.022, 0.99, 0.73, 0.584, 0.731, 0.999, 0.437,\n",
        "    0.472, 0.067, 0.494, 0.742, 0.786, 0.797, 0.347, 0.742, 0.303, 0.393,\n",
        "    0.797, 0.189, 0.494, 0.674, 0.393, 0.292, 0.426, 0.213, 0.718, 0.268,\n",
        "    0.101, 0.977, 0.235, 0.898, 0.461, 0.876, 0.057, 0.472, 0.933, 0.123,\n",
        "    0.696, 0.843, 0.178, 0.641, 0.011, 0.707, 0.819, 0.641, 0.056, 0.945,\n",
        "    0.966, 0.562, 0.775, 0.674, 0.977, 0.562, 0.303, 0.944, 0.415, 0.527,\n",
        "    0.404, 0.549, 0.797, 0.821, 0.246, 0.562, 0.404, 0.28, 0.819, 0.459,\n",
        "    0.603, 0.992, 0.252, 0.19, 0.881, 0.821, 0.64, 0.663, 0.444, 0.652]\n",
        "\n",
        "alpha = 0.05\n"
      ]
    },
    {
      "cell_type": "markdown",
      "source": [
        "**PASO 1**"
      ],
      "metadata": {
        "id": "_643zvoRNFUd"
      }
    },
    {
      "cell_type": "code",
      "source": [
        "valor_racha = []  #guarda los valores 0 y 1 de las rachas\n",
        "\n",
        "m = len(muestra)\n",
        "for i in range(1, m):\n",
        "    if muestra[i] > muestra[i - 1]:\n",
        "       valor_racha.append(1)  # asigna el valor 1 si se cumple la condición\n",
        "    elif muestra[i] < muestra[i - 1]:\n",
        "       valor_racha.append(0) # asigna el valor 0 si se cumple la condición\n",
        "    else:\n",
        "       valor_racha.append(1) # asigna el valor 1 si se cumple la condición\n",
        "\n",
        "valor_racha.insert(0, \"-\") #al primer dato no le asigna un vadato\n",
        "valor_racha.append(0)"
      ],
      "metadata": {
        "id": "PbyW8F9iFwtl"
      },
      "execution_count": 31,
      "outputs": []
    },
    {
      "cell_type": "code",
      "source": [
        "#agregmos los datos que  tabularemos en una lista\n",
        "datos = [[muestra[i], valor_racha[i]] for i in range(m)]"
      ],
      "metadata": {
        "id": "E_GjfkbZGg1g"
      },
      "execution_count": 32,
      "outputs": []
    },
    {
      "cell_type": "markdown",
      "source": [
        "**PASO 2**"
      ],
      "metadata": {
        "id": "Lo-0RdV5NLVy"
      }
    },
    {
      "cell_type": "code",
      "source": [
        "#contador de rachas\n",
        "Co=0\n",
        "for j in range(1,m):\n",
        "    if valor_racha[j-1]!=valor_racha[j]:\n",
        "       Co+= 1"
      ],
      "metadata": {
        "id": "XLy_-aBZGlFX"
      },
      "execution_count": 33,
      "outputs": []
    },
    {
      "cell_type": "markdown",
      "source": [
        "**PASO 3**"
      ],
      "metadata": {
        "id": "B2o6Y-XWNPx7"
      }
    },
    {
      "cell_type": "code",
      "source": [
        "# Cálculo de la media y desviación estándar de rachas en una secuencia aleatoria\n",
        "mu = (2 * m - 1) / 3\n",
        "sigma = ((16 * m - 29) / 90) ** 0.5\n",
        "\n",
        "z = (Co - mu) / sigma"
      ],
      "metadata": {
        "id": "j3CxcaR4Gpf6"
      },
      "execution_count": 34,
      "outputs": []
    },
    {
      "cell_type": "markdown",
      "source": [
        "*INTERVALO DE ACEPTACIÓN*"
      ],
      "metadata": {
        "id": "3CY9vk5RNTeB"
      }
    },
    {
      "cell_type": "code",
      "source": [
        "z_critico = stats.norm.ppf(1-alpha/2)\n",
        "# Interpretación del valor Z\n",
        "if z < z_critico and - z_critico < z:\n",
        "   conclusion = \"La secuencia parece ser aleatoria.\"\n",
        "else:\n",
        "   conclusion = \"La secuencia no parece ser aleatoria.\""
      ],
      "metadata": {
        "id": "U8tJxyyiGs6x"
      },
      "execution_count": 35,
      "outputs": []
    },
    {
      "cell_type": "markdown",
      "source": [
        "*IMPRIMIR LOS RESULTADOS*"
      ],
      "metadata": {
        "id": "VyzaOuy-Nffy"
      }
    },
    {
      "cell_type": "code",
      "source": [
        "encabezado = [\"x_i\", \"rachas\"]\n",
        "\n",
        "print(\"Número de rachas:\", Co)\n",
        "print(\"Valor estadístico Z:\", z)\n",
        "print(\"Conclusión:\", conclusion)\n",
        "print(tabulate.tabulate(datos, headers=encabezado, tablefmt=\"grid\", numalign=\"center\", stralign=\"center\"))"
      ],
      "metadata": {
        "colab": {
          "base_uri": "https://localhost:8080/"
        },
        "id": "eCvDoK59G2UK",
        "outputId": "0d163a1b-de4d-4e41-e633-bdea05079116"
      },
      "execution_count": 36,
      "outputs": [
        {
          "output_type": "stream",
          "name": "stdout",
          "text": [
            "Número de rachas: 71\n",
            "Valor estadístico Z: 1.116965973232688\n",
            "Conclusión: La secuencia parece ser aleatoria.\n",
            "+-------+----------+\n",
            "|  x_i  |  rachas  |\n",
            "+=======+==========+\n",
            "| 0.347 |    -     |\n",
            "+-------+----------+\n",
            "| 0.993 |    1     |\n",
            "+-------+----------+\n",
            "| 0.674 |    0     |\n",
            "+-------+----------+\n",
            "| 0.426 |    0     |\n",
            "+-------+----------+\n",
            "| 0.46  |    1     |\n",
            "+-------+----------+\n",
            "| 0.189 |    0     |\n",
            "+-------+----------+\n",
            "| 0.112 |    0     |\n",
            "+-------+----------+\n",
            "| 0.37  |    1     |\n",
            "+-------+----------+\n",
            "| 0.909 |    1     |\n",
            "+-------+----------+\n",
            "| 0.178 |    0     |\n",
            "+-------+----------+\n",
            "| 0.832 |    1     |\n",
            "+-------+----------+\n",
            "| 0.371 |    0     |\n",
            "+-------+----------+\n",
            "| 0.628 |    1     |\n",
            "+-------+----------+\n",
            "| 0.054 |    0     |\n",
            "+-------+----------+\n",
            "| 0.224 |    1     |\n",
            "+-------+----------+\n",
            "| 0.753 |    1     |\n",
            "+-------+----------+\n",
            "| 0.191 |    0     |\n",
            "+-------+----------+\n",
            "| 0.314 |    1     |\n",
            "+-------+----------+\n",
            "| 0.764 |    1     |\n",
            "+-------+----------+\n",
            "| 0.516 |    0     |\n",
            "+-------+----------+\n",
            "| 0.966 |    1     |\n",
            "+-------+----------+\n",
            "| 0.729 |    0     |\n",
            "+-------+----------+\n",
            "| 0.055 |    0     |\n",
            "+-------+----------+\n",
            "| 0.022 |    0     |\n",
            "+-------+----------+\n",
            "| 0.99  |    1     |\n",
            "+-------+----------+\n",
            "| 0.73  |    0     |\n",
            "+-------+----------+\n",
            "| 0.584 |    0     |\n",
            "+-------+----------+\n",
            "| 0.731 |    1     |\n",
            "+-------+----------+\n",
            "| 0.999 |    1     |\n",
            "+-------+----------+\n",
            "| 0.437 |    0     |\n",
            "+-------+----------+\n",
            "| 0.472 |    1     |\n",
            "+-------+----------+\n",
            "| 0.067 |    0     |\n",
            "+-------+----------+\n",
            "| 0.494 |    1     |\n",
            "+-------+----------+\n",
            "| 0.742 |    1     |\n",
            "+-------+----------+\n",
            "| 0.786 |    1     |\n",
            "+-------+----------+\n",
            "| 0.797 |    1     |\n",
            "+-------+----------+\n",
            "| 0.347 |    0     |\n",
            "+-------+----------+\n",
            "| 0.742 |    1     |\n",
            "+-------+----------+\n",
            "| 0.303 |    0     |\n",
            "+-------+----------+\n",
            "| 0.393 |    1     |\n",
            "+-------+----------+\n",
            "| 0.797 |    1     |\n",
            "+-------+----------+\n",
            "| 0.189 |    0     |\n",
            "+-------+----------+\n",
            "| 0.494 |    1     |\n",
            "+-------+----------+\n",
            "| 0.674 |    1     |\n",
            "+-------+----------+\n",
            "| 0.393 |    0     |\n",
            "+-------+----------+\n",
            "| 0.292 |    0     |\n",
            "+-------+----------+\n",
            "| 0.426 |    1     |\n",
            "+-------+----------+\n",
            "| 0.213 |    0     |\n",
            "+-------+----------+\n",
            "| 0.718 |    1     |\n",
            "+-------+----------+\n",
            "| 0.268 |    0     |\n",
            "+-------+----------+\n",
            "| 0.101 |    0     |\n",
            "+-------+----------+\n",
            "| 0.977 |    1     |\n",
            "+-------+----------+\n",
            "| 0.235 |    0     |\n",
            "+-------+----------+\n",
            "| 0.898 |    1     |\n",
            "+-------+----------+\n",
            "| 0.461 |    0     |\n",
            "+-------+----------+\n",
            "| 0.876 |    1     |\n",
            "+-------+----------+\n",
            "| 0.057 |    0     |\n",
            "+-------+----------+\n",
            "| 0.472 |    1     |\n",
            "+-------+----------+\n",
            "| 0.933 |    1     |\n",
            "+-------+----------+\n",
            "| 0.123 |    0     |\n",
            "+-------+----------+\n",
            "| 0.696 |    1     |\n",
            "+-------+----------+\n",
            "| 0.843 |    1     |\n",
            "+-------+----------+\n",
            "| 0.178 |    0     |\n",
            "+-------+----------+\n",
            "| 0.641 |    1     |\n",
            "+-------+----------+\n",
            "| 0.011 |    0     |\n",
            "+-------+----------+\n",
            "| 0.707 |    1     |\n",
            "+-------+----------+\n",
            "| 0.819 |    1     |\n",
            "+-------+----------+\n",
            "| 0.641 |    0     |\n",
            "+-------+----------+\n",
            "| 0.056 |    0     |\n",
            "+-------+----------+\n",
            "| 0.945 |    1     |\n",
            "+-------+----------+\n",
            "| 0.966 |    1     |\n",
            "+-------+----------+\n",
            "| 0.562 |    0     |\n",
            "+-------+----------+\n",
            "| 0.775 |    1     |\n",
            "+-------+----------+\n",
            "| 0.674 |    0     |\n",
            "+-------+----------+\n",
            "| 0.977 |    1     |\n",
            "+-------+----------+\n",
            "| 0.562 |    0     |\n",
            "+-------+----------+\n",
            "| 0.303 |    0     |\n",
            "+-------+----------+\n",
            "| 0.944 |    1     |\n",
            "+-------+----------+\n",
            "| 0.415 |    0     |\n",
            "+-------+----------+\n",
            "| 0.527 |    1     |\n",
            "+-------+----------+\n",
            "| 0.404 |    0     |\n",
            "+-------+----------+\n",
            "| 0.549 |    1     |\n",
            "+-------+----------+\n",
            "| 0.797 |    1     |\n",
            "+-------+----------+\n",
            "| 0.821 |    1     |\n",
            "+-------+----------+\n",
            "| 0.246 |    0     |\n",
            "+-------+----------+\n",
            "| 0.562 |    1     |\n",
            "+-------+----------+\n",
            "| 0.404 |    0     |\n",
            "+-------+----------+\n",
            "| 0.28  |    0     |\n",
            "+-------+----------+\n",
            "| 0.819 |    1     |\n",
            "+-------+----------+\n",
            "| 0.459 |    0     |\n",
            "+-------+----------+\n",
            "| 0.603 |    1     |\n",
            "+-------+----------+\n",
            "| 0.992 |    1     |\n",
            "+-------+----------+\n",
            "| 0.252 |    0     |\n",
            "+-------+----------+\n",
            "| 0.19  |    0     |\n",
            "+-------+----------+\n",
            "| 0.881 |    1     |\n",
            "+-------+----------+\n",
            "| 0.821 |    0     |\n",
            "+-------+----------+\n",
            "| 0.64  |    0     |\n",
            "+-------+----------+\n",
            "| 0.663 |    1     |\n",
            "+-------+----------+\n",
            "| 0.444 |    0     |\n",
            "+-------+----------+\n",
            "| 0.652 |    1     |\n",
            "+-------+----------+\n"
          ]
        }
      ]
    }
  ]
}