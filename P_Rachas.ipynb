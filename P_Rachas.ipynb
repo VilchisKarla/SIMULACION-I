{
  "nbformat": 4,
  "nbformat_minor": 0,
  "metadata": {
    "colab": {
      "provenance": [],
      "authorship_tag": "ABX9TyOffkJqG/TXonQjSjnCZxh6",
      "include_colab_link": true
    },
    "kernelspec": {
      "name": "python3",
      "display_name": "Python 3"
    },
    "language_info": {
      "name": "python"
    }
  },
  "cells": [
    {
      "cell_type": "markdown",
      "metadata": {
        "id": "view-in-github",
        "colab_type": "text"
      },
      "source": [
        "<a href=\"https://colab.research.google.com/github/VilchisKarla/SIMULACION-I/blob/main/P_Rachas.ipynb\" target=\"_parent\"><img src=\"https://colab.research.google.com/assets/colab-badge.svg\" alt=\"Open In Colab\"/></a>"
      ]
    },
    {
      "cell_type": "markdown",
      "source": [
        "# **Prueba de rachas**\n",
        "\n",
        "*Vilchis García Karla Ivonne*\n",
        "\n",
        "---\n",
        "\n",
        "\n",
        "1.   Determinar la secuencia de \"1\" y \"0\" (tendrá n-1 términoos)\n",
        "\n",
        "      * generando 0 si x[i] < x[i-1]\n",
        "\n",
        "      * generando 1 si x[i] > x[i-1]\n",
        "\n",
        "\n",
        "2.   Hallar el número de corridas observadas **Co**\n",
        "\n",
        "        una corrida está dada por grupos  de 1 o 0 consecutivos\n",
        "\n",
        "3.   calcular el valor esperado y la varianza del número de corridas,así como **Zo**  \n",
        "\n",
        "     *  𝛍=(2n-1)/3\n",
        "\n",
        "     *  σˆ2=(16n-29)/90\n",
        "\n",
        "     * Zo=(Co-𝛍)/σ\n",
        "\n",
        "---\n",
        "\n",
        "el intervalo  de aceptación es:\n",
        "\n",
        "        -Z_α/2 ≤ Zo ≤ Z_α/2"
      ],
      "metadata": {
        "id": "9NS1Wpn2FxUX"
      }
    },
    {
      "cell_type": "code",
      "execution_count": 38,
      "metadata": {
        "id": "zeZwXmEaFvxr"
      },
      "outputs": [],
      "source": [
        "import scipy.stats as stats\n",
        "import tabulate\n",
        "\n",
        "muestra =[0.048, 0.926, 0.368, 0.787, 0.298, 0.591, 0.007, 0.437, 0.594, 0.199, 0.478,\n",
        "          0.551, 0.178, 0.086, 0.157, 0.166, 0.362, 0.411, 0.951, 0.401, 0.932, 0.533,\n",
        "          0.545, 0.772, 0.631]\n",
        "\n",
        "alpha = 0.05\n"
      ]
    },
    {
      "cell_type": "markdown",
      "source": [
        "**PASO 1**"
      ],
      "metadata": {
        "id": "_643zvoRNFUd"
      }
    },
    {
      "cell_type": "code",
      "source": [
        "valor_racha = []  #guarda los valores 0 y 1 de las rachas\n",
        "\n",
        "m = len(muestra)\n",
        "for i in range(1, m):\n",
        "    if muestra[i] > muestra[i - 1]:\n",
        "       valor_racha.append(1)  # asigna el valor 1 si se cumple la condición\n",
        "    elif muestra[i] < muestra[i - 1]:\n",
        "       valor_racha.append(0) # asigna el valor 0 si se cumple la condición\n",
        "    else:\n",
        "       valor_racha.append(1) # asigna el valor 1 si se cumple la condición\n",
        "\n",
        "valor_racha.insert(0, \"-\") #al primer dato no le asigna un vadato\n",
        "valor_racha.append(0)"
      ],
      "metadata": {
        "id": "PbyW8F9iFwtl"
      },
      "execution_count": 39,
      "outputs": []
    },
    {
      "cell_type": "code",
      "source": [
        "#agregmos los datos que  tabularemos en una lista\n",
        "datos = [[muestra[i], valor_racha[i]] for i in range(m)]"
      ],
      "metadata": {
        "id": "E_GjfkbZGg1g"
      },
      "execution_count": 40,
      "outputs": []
    },
    {
      "cell_type": "markdown",
      "source": [
        "**PASO 2**"
      ],
      "metadata": {
        "id": "Lo-0RdV5NLVy"
      }
    },
    {
      "cell_type": "code",
      "source": [
        "#contador de rachas\n",
        "Co=0\n",
        "for j in range(1,m):\n",
        "    if valor_racha[j-1]!=valor_racha[j]:\n",
        "       Co+= 1"
      ],
      "metadata": {
        "id": "XLy_-aBZGlFX"
      },
      "execution_count": 41,
      "outputs": []
    },
    {
      "cell_type": "markdown",
      "source": [
        "**PASO 3**"
      ],
      "metadata": {
        "id": "B2o6Y-XWNPx7"
      }
    },
    {
      "cell_type": "code",
      "source": [
        "# Cálculo de la media y desviación estándar de rachas en una secuencia aleatoria\n",
        "mu = (2 * m - 1) / 3\n",
        "sigma = ((16 * m - 29) / 90) ** 0.5\n",
        "\n",
        "z = (Co - mu) / sigma"
      ],
      "metadata": {
        "id": "j3CxcaR4Gpf6"
      },
      "execution_count": 42,
      "outputs": []
    },
    {
      "cell_type": "markdown",
      "source": [
        "*INTERVALO DE ACEPTACIÓN*"
      ],
      "metadata": {
        "id": "3CY9vk5RNTeB"
      }
    },
    {
      "cell_type": "code",
      "source": [
        "z_critico = stats.norm.ppf(1-alpha/2)\n",
        "# Interpretación del valor Z\n",
        "if z < z_critico and - z_critico < z:\n",
        "   conclusion = \"La secuencia parece ser aleatoria.\"\n",
        "else:\n",
        "   conclusion = \"La secuencia no parece ser aleatoria.\""
      ],
      "metadata": {
        "id": "U8tJxyyiGs6x"
      },
      "execution_count": 43,
      "outputs": []
    },
    {
      "cell_type": "markdown",
      "source": [
        "*IMPRIMIR LOS RESULTADOS*"
      ],
      "metadata": {
        "id": "VyzaOuy-Nffy"
      }
    },
    {
      "cell_type": "code",
      "source": [
        "encabezado = [\"x_i\", \"rachas\"]\n",
        "\n",
        "print(\"Número de rachas:\", Co)\n",
        "print(\"Valor estadístico Z:\", z)\n",
        "print(\"Valor crítico Z:\", f\"{z_critico:.2f}\")\n",
        "print(\"Conclusión:\", conclusion)\n",
        "print(tabulate.tabulate(datos, headers=encabezado, tablefmt=\"grid\", numalign=\"center\", stralign=\"center\"))"
      ],
      "metadata": {
        "colab": {
          "base_uri": "https://localhost:8080/"
        },
        "id": "eCvDoK59G2UK",
        "outputId": "5df385b1-a03b-44d8-b229-0a11b1041309"
      },
      "execution_count": 48,
      "outputs": [
        {
          "output_type": "stream",
          "name": "stdout",
          "text": [
            "Número de rachas: 16\n",
            "Valor estadístico Z: -0.16417727582577904\n",
            "Valor crítico Z: 1.96\n",
            "Conclusión: La secuencia parece ser aleatoria.\n",
            "+-------+----------+\n",
            "|  x_i  |  rachas  |\n",
            "+=======+==========+\n",
            "| 0.048 |    -     |\n",
            "+-------+----------+\n",
            "| 0.926 |    1     |\n",
            "+-------+----------+\n",
            "| 0.368 |    0     |\n",
            "+-------+----------+\n",
            "| 0.787 |    1     |\n",
            "+-------+----------+\n",
            "| 0.298 |    0     |\n",
            "+-------+----------+\n",
            "| 0.591 |    1     |\n",
            "+-------+----------+\n",
            "| 0.007 |    0     |\n",
            "+-------+----------+\n",
            "| 0.437 |    1     |\n",
            "+-------+----------+\n",
            "| 0.594 |    1     |\n",
            "+-------+----------+\n",
            "| 0.199 |    0     |\n",
            "+-------+----------+\n",
            "| 0.478 |    1     |\n",
            "+-------+----------+\n",
            "| 0.551 |    1     |\n",
            "+-------+----------+\n",
            "| 0.178 |    0     |\n",
            "+-------+----------+\n",
            "| 0.086 |    0     |\n",
            "+-------+----------+\n",
            "| 0.157 |    1     |\n",
            "+-------+----------+\n",
            "| 0.166 |    1     |\n",
            "+-------+----------+\n",
            "| 0.362 |    1     |\n",
            "+-------+----------+\n",
            "| 0.411 |    1     |\n",
            "+-------+----------+\n",
            "| 0.951 |    1     |\n",
            "+-------+----------+\n",
            "| 0.401 |    0     |\n",
            "+-------+----------+\n",
            "| 0.932 |    1     |\n",
            "+-------+----------+\n",
            "| 0.533 |    0     |\n",
            "+-------+----------+\n",
            "| 0.545 |    1     |\n",
            "+-------+----------+\n",
            "| 0.772 |    1     |\n",
            "+-------+----------+\n",
            "| 0.631 |    0     |\n",
            "+-------+----------+\n"
          ]
        }
      ]
    }
  ]
}