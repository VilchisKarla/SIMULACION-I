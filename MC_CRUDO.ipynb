{
  "nbformat": 4,
  "nbformat_minor": 0,
  "metadata": {
    "colab": {
      "provenance": [],
      "authorship_tag": "ABX9TyOe7wqGwmn5foCLvQNBZHI2",
      "include_colab_link": true
    },
    "kernelspec": {
      "name": "python3",
      "display_name": "Python 3"
    },
    "language_info": {
      "name": "python"
    }
  },
  "cells": [
    {
      "cell_type": "markdown",
      "metadata": {
        "id": "view-in-github",
        "colab_type": "text"
      },
      "source": [
        "<a href=\"https://colab.research.google.com/github/VilchisKarla/SIMULACION-I/blob/main/MC_CRUDO.ipynb\" target=\"_parent\"><img src=\"https://colab.research.google.com/assets/colab-badge.svg\" alt=\"Open In Colab\"/></a>"
      ]
    },
    {
      "cell_type": "markdown",
      "source": [
        "# **Montecarlo Crudo (media muestral)**\n",
        "\n",
        "*VILCHIS GARCÍA KARLA IVONNE*\n",
        "\n",
        "\n",
        "\n",
        "\n",
        "---\n",
        "\n",
        "\n",
        "La idea central del método de integración Monte Carlo es la siguiente: si deseamos calcular la integral para alguna función $g(x)$ difícil deintegrar analíticamente, podemos hacer la siguiente sustitución:\n",
        "\n",
        "\n",
        "$$I=\\int_a^b g(x )dx=\\int_a^b w(x )f(x) dx = E[g(x)]=\\frac{1}{N} \\sum_{i=1}^N g(x_i)$$\n",
        "\n",
        "con:\n",
        "\n",
        "$w(x) = g(x)(b − a)$\n",
        "\n",
        "\n",
        "$f(x) = \\frac{1}{b-a}$\n"
      ],
      "metadata": {
        "id": "PEcO1Uzfyicw"
      }
    },
    {
      "cell_type": "code",
      "execution_count": 81,
      "metadata": {
        "colab": {
          "base_uri": "https://localhost:8080/"
        },
        "id": "i6mV9rO4mnd9",
        "outputId": "9708a870-bbbc-48d9-8eaa-a6ddd5c8917a"
      },
      "outputs": [
        {
          "output_type": "stream",
          "name": "stdout",
          "text": [
            "Aproximacón: 0.6358459077143442\n"
          ]
        }
      ],
      "source": [
        "import random as rd\n",
        "from matplotlib  import pyplot as plt\n",
        "import numpy as np\n",
        "\n",
        "n=1000\n",
        "\n",
        "def g(x):\n",
        "    return np.sqrt(np.arctan(x))\n",
        "\n",
        "def Crudo(n):\n",
        "    v=[]\n",
        "    d=0\n",
        "    for i in range(n):\n",
        "        u=rd.random()\n",
        "        d += g(u)\n",
        "        v.append(d/n)\n",
        "    return d/n, v\n",
        "\n",
        "aprox, L = Crudo(n)\n",
        "\n",
        "print(\"Aproximacón:\", aprox)"
      ]
    },
    {
      "cell_type": "markdown",
      "source": [
        "**Calcular la integral exacta**"
      ],
      "metadata": {
        "id": "28X9Lc401Iwl"
      }
    },
    {
      "cell_type": "code",
      "source": [
        "from sympy import integrate, Symbol, sqrt, atan\n",
        "import numpy as np\n",
        "\n",
        "# Calculate the integral\n",
        "result = integrate(sqrt(atan(x)), (x, 0, 1))\n",
        "\n",
        "# Evaluate the result numerically\n",
        "numerical_result = result.evalf()\n",
        "\n",
        "vr = numerical_result\n",
        "print(vr)"
      ],
      "metadata": {
        "colab": {
          "base_uri": "https://localhost:8080/"
        },
        "id": "mshC2qfdy1Ub",
        "outputId": "f049199a-9d75-49a7-b061-81a1dbc11565"
      },
      "execution_count": 63,
      "outputs": [
        {
          "output_type": "stream",
          "name": "stdout",
          "text": [
            "0.629823344207973\n"
          ]
        }
      ]
    },
    {
      "cell_type": "markdown",
      "source": [
        "**Calcuar el error**"
      ],
      "metadata": {
        "id": "cegEyw6T1Ckk"
      }
    },
    {
      "cell_type": "code",
      "source": [
        "error = abs(vr-aprox)\n",
        "print(\"Error:\", error)"
      ],
      "metadata": {
        "colab": {
          "base_uri": "https://localhost:8080/"
        },
        "id": "mwLIWj6t0rzh",
        "outputId": "833a1915-e1d6-4572-b951-bb701e313224"
      },
      "execution_count": 68,
      "outputs": [
        {
          "output_type": "stream",
          "name": "stdout",
          "text": [
            "Error: 0.000356694888134279\n"
          ]
        }
      ]
    },
    {
      "cell_type": "markdown",
      "source": [
        "**Gráfica**"
      ],
      "metadata": {
        "id": "Mzv6C1Ck1leN"
      }
    },
    {
      "cell_type": "code",
      "source": [
        "print(\"media:\", np.mean(L))\n",
        "print(\"varianza:\", np.var(L))\n",
        "plt.plot(L)\n",
        "plt.axhline(y=np.mean(L), color='r', label=\"media:\")\n",
        "plt.axhline(y=np.mean(L)+np.var(L),color='cyan', linestyle='--', label=\"Varianza\")\n",
        "plt.axhline(y=np.mean(L)-np.var(L), color='cyan', linestyle='--')\n",
        "plt.legend()\n",
        "plt.show()"
      ],
      "metadata": {
        "colab": {
          "base_uri": "https://localhost:8080/",
          "height": 465
        },
        "id": "wwxiVgn01j0w",
        "outputId": "35d9c4f8-b618-4742-b75e-f8ec944ba680"
      },
      "execution_count": 86,
      "outputs": [
        {
          "output_type": "stream",
          "name": "stdout",
          "text": [
            "media: 0.3200965821798083\n",
            "varianza: 0.03357917218529319\n"
          ]
        },
        {
          "output_type": "display_data",
          "data": {
            "text/plain": [
              "<Figure size 640x480 with 1 Axes>"
            ],
            "image/png": "[encoded data removed]"
          },
          "metadata": {}
        }
      ]
    }
  ]
}