{
  "nbformat": 4,
  "nbformat_minor": 0,
  "metadata": {
    "colab": {
      "provenance": [],
      "authorship_tag": "ABX9TyMyedYWKlmFUQEUHshYgKRT",
      "include_colab_link": true
    },
    "kernelspec": {
      "name": "python3",
      "display_name": "Python 3"
    },
    "language_info": {
      "name": "python"
    }
  },
  "cells": [
    {
      "cell_type": "markdown",
      "metadata": {
        "id": "view-in-github",
        "colab_type": "text"
      },
      "source": [
        "<a href=\"https://colab.research.google.com/github/VilchisKarla/SIMULACION-I/blob/main/Aplicacion_TableroCircular.ipynb\" target=\"_parent\"><img src=\"https://colab.research.google.com/assets/colab-badge.svg\" alt=\"Open In Colab\"/></a>"
      ]
    },
    {
      "cell_type": "markdown",
      "source": [
        "# **EJERCICIO** Tablero Circular\n",
        "\n",
        "Lanzamos 2 monedas y avanzamos, en sentido horario, el número de caras que aparezcan. Si repetimos el procedimiento. ¿Son todos los sectores igualmente probables cuando pasa mucho tiempo?\n"
      ],
      "metadata": {
        "id": "5cHhn_LQ3aK4"
      }
    },
    {
      "cell_type": "code",
      "source": [
        "import matplotlib.pyplot as plt\n",
        "\n",
        "# Configuración del plano\n",
        "fig, ax = plt.subplots(figsize=(6, 6))\n",
        "\n",
        "# Datos para los sectores\n",
        "sizes = [90, 90, 90, 90]  # 4 sectores de 90° cada uno\n",
        "colors = ['orange', 'blue', 'green', 'red']\n",
        "labels = ['Naranja', 'Azul', 'Verde', 'Rojo']\n",
        "\n",
        "# Crear el gráfico de pastel\n",
        "ax.pie(sizes, colors=colors, startangle=90, counterclock=False)\n",
        "plt.title('Tablero')\n",
        "# Mostrar el gráfico\n",
        "plt.show()"
      ],
      "metadata": {
        "colab": {
          "base_uri": "https://localhost:8080/",
          "height": 521
        },
        "id": "ymdEqJQ_DgGx",
        "outputId": "58b72f6c-43c5-4964-ab37-995c128221ee"
      },
      "execution_count": 15,
      "outputs": [
        {
          "output_type": "display_data",
          "data": {
            "text/plain": [
              "<Figure size 600x600 with 1 Axes>"
            ],
            "image/png": "[encoded data removed]"
          },
          "metadata": {}
        }
      ]
    },
    {
      "cell_type": "markdown",
      "source": [
        "### Solución Analítica"
      ],
      "metadata": {
        "id": "fYNznNhB55h6"
      }
    },
    {
      "cell_type": "markdown",
      "source": [
        "nuestra variable de estado es la posición de la ficha. --> $x$\n",
        "\n",
        "Los posibles estados de las monedas son:\n",
        "\n",
        "$\\frac{1}{4}$ {Sol, Sol}\n",
        "\n",
        "$\\frac{1}{2}$ {Sol,Águila},{Águila, Sol}\n",
        "\n",
        "$\\frac{1}{4}$ {Águila, Águila}\n",
        "\n",
        "Entonces, sean:\n",
        "\n",
        "$x_n$:probabilidad de estar en el sector naranja tras n tiros\n",
        "\n",
        "$y_n$:probabilidad de estar en el sector azul tras n tiros\n",
        "\n",
        "$z_n$:probabilidad de estar en el sector verde tras n tiros\n",
        "\n",
        "$t_n$:probabilidad de estar en el sector rojo tras n tiros\n",
        "\n",
        "\n",
        "Utilizando el teorema de la probabiliad total\n",
        "$$P(A) = \\sum_{i=1}^m P(A|B_i)P(B_i)$$\n",
        "\n",
        "llegamos a la siguiente expresión:\n",
        "\n",
        "$$\\begin{bmatrix} x_n \\\\\n",
        "y_n\\\\\n",
        "z_n\\\\\n",
        "t_n \\end{bmatrix} = \\begin{bmatrix} \\frac{1}{4} & 0 & \\frac{1}{4} & \\frac{2}{4} \\\\\n",
        "\\frac{2}{4} & \\frac{1}{4} & 0 & \\frac{1}{4}\\\\\n",
        "\\frac{1}{4} & \\frac{2}{4} & \\frac{1}{4} & 0\\\\\n",
        "0 & \\frac{1}{4} & \\frac{2}{4} & \\frac{1}{4} \\end{bmatrix} \\begin{bmatrix} x_{n-1} \\\\\n",
        "y_{n-1}\\\\\n",
        "z_{n-1}\\\\\n",
        "t_{n-1} \\end{bmatrix}$$\n",
        "\n",
        "Es decir, tenemos un sistema $X_n=AX_{n-1}$ que en general es $X_n=A^nX_0$\n",
        "\n",
        "Para resolver el problema  bastaría con calcular $A^n$\n",
        "\n",
        "Veamos que para n=30 ya tendremos la solución exacta"
      ],
      "metadata": {
        "id": "dYzM3Mb66JIB"
      }
    },
    {
      "cell_type": "code",
      "source": [
        "import numpy as np\n",
        "\n",
        "# Definir la matriz A\n",
        "A = np.array([\n",
        "    [0.25, 0.00, 0.25, 0.50],\n",
        "    [0.50, 0.25, 0.00, 0.25],\n",
        "    [0.25, 0.50, 0.25, 0.00],\n",
        "    [0.00, 0.25, 0.50, 0.25]\n",
        "])\n",
        "\n",
        "# Función para elevar la matriz A a la potencia n\n",
        "def matriz_potencia(A, n):\n",
        "    return np.linalg.matrix_power(A, n)\n",
        "\n",
        "# Ejemplo: calcular A^30\n",
        "n = 30\n",
        "A_n = matriz_potencia(A, n)\n",
        "\n",
        "print(f\"A^{n} =\\n\", A_n)\n"
      ],
      "metadata": {
        "colab": {
          "base_uri": "https://localhost:8080/"
        },
        "id": "YK7gO80SAApq",
        "outputId": "f60bd90b-7b87-4754-ed0b-d43167f213d0"
      },
      "execution_count": 11,
      "outputs": [
        {
          "output_type": "stream",
          "name": "stdout",
          "text": [
            "A^30 =\n",
            " [[0.25 0.25 0.25 0.25]\n",
            " [0.25 0.25 0.25 0.25]\n",
            " [0.25 0.25 0.25 0.25]\n",
            " [0.25 0.25 0.25 0.25]]\n"
          ]
        }
      ]
    },
    {
      "cell_type": "markdown",
      "source": [
        "###Simulación"
      ],
      "metadata": {
        "id": "kpS3ZKCT6APH"
      }
    },
    {
      "cell_type": "code",
      "execution_count": 1,
      "metadata": {
        "id": "fX_jqH2jCfe7"
      },
      "outputs": [],
      "source": [
        "import random\n",
        "import numpy as np\n",
        "import matplotlib.pyplot as plt"
      ]
    },
    {
      "cell_type": "code",
      "source": [
        "# Lanzamiento de 2 monedas (binomial)\n",
        "def tiros():\n",
        "    return np.random.binomial(1, 0.5, 2)"
      ],
      "metadata": {
        "id": "VDbXBGslC5E2"
      },
      "execution_count": 2,
      "outputs": []
    },
    {
      "cell_type": "code",
      "source": [
        "# Tablero circular\n",
        "def tablero(pos, longitud):\n",
        "    return pos % longitud"
      ],
      "metadata": {
        "id": "aGJ5wATOzY09"
      },
      "execution_count": 3,
      "outputs": []
    },
    {
      "cell_type": "code",
      "source": [
        "# Mover ficha en base al número de caras (soles)\n",
        "def movimiento():\n",
        "    m1, m2 = tiros()\n",
        "    if m1 == 1 and m2 == 1:\n",
        "        return 2\n",
        "    elif (m1 == 1 and m2 == 0) or (m1 == 0 and m2 == 1):\n",
        "        return 1\n",
        "    else:\n",
        "        return 0"
      ],
      "metadata": {
        "id": "dRdaKuOazdiL"
      },
      "execution_count": 4,
      "outputs": []
    },
    {
      "cell_type": "code",
      "source": [
        "# Simución de un juego\n",
        "def juego(n):\n",
        "    pos = 0 #indicador de la posicion\n",
        "    colores = {0: 'Naranja', 1: 'Azul', 2: 'Verde', 3: 'Rojo'} #diccionario de los colores del tablero asignados a un nnúmero\n",
        "    conteo = {color: 0 for color in colores.values()}  #lleva la cuenta de cuántas veces cae la ficha en cada color.\n",
        "\n",
        "    for _ in range(n): #ciclo para los n turnos\n",
        "        avance = movimiento() #cantidad de casillas a avanzar\n",
        "        pos = tablero(pos + avance, 4) #nueva posición\n",
        "        conteo[colores[pos]] += 1 #actualizar el contador del color en que cae\n",
        "    proba = {color: count / n for color, count in conteo.items()} #calcula la  proba de caer en cada color\n",
        "    return proba\n",
        "\n",
        "#simulación de varios juegos\n",
        "SIM = juego(1000000)\n",
        "\n",
        "# Mostrar resultados\n",
        "for color, cantidad in SIM.items():\n",
        "    print(f\"{color}: {cantidad}\")"
      ],
      "metadata": {
        "colab": {
          "base_uri": "https://localhost:8080/"
        },
        "id": "D0ow1ra1WoKM",
        "outputId": "e6c4fc0c-2408-4682-a94f-334de20b65e3"
      },
      "execution_count": 5,
      "outputs": [
        {
          "output_type": "stream",
          "name": "stdout",
          "text": [
            "Naranja: 0.249742\n",
            "Azul: 0.249697\n",
            "Verde: 0.250091\n",
            "Rojo: 0.25047\n"
          ]
        }
      ]
    },
    {
      "cell_type": "markdown",
      "source": [
        "### **CONCLUSIÓN**\n",
        "\n",
        "Después de muchos tiros, cada color es igualmente probable"
      ],
      "metadata": {
        "id": "dit0wEDuEnoN"
      }
    }
  ]
}