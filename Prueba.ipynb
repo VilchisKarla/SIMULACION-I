{
  "nbformat": 4,
  "nbformat_minor": 0,
  "metadata": {
    "colab": {
      "provenance": [],
      "authorship_tag": "ABX9TyMoZBVHynswcWhiP/94m+o8",
      "include_colab_link": true
    },
    "kernelspec": {
      "name": "python3",
      "display_name": "Python 3"
    },
    "language_info": {
      "name": "python"
    }
  },
  "cells": [
    {
      "cell_type": "markdown",
      "metadata": {
        "id": "view-in-github",
        "colab_type": "text"
      },
      "source": [
        "<a href=\"https://colab.research.google.com/github/VilchisKarla/SIMULACION-I/blob/main/Prueba.ipynb\" target=\"_parent\"><img src=\"https://colab.research.google.com/assets/colab-badge.svg\" alt=\"Open In Colab\"/></a>"
      ]
    },
    {
      "cell_type": "code",
      "execution_count": null,
      "metadata": {
        "id": "f5Zjp2UvMIRJ"
      },
      "outputs": [],
      "source": [
        "# prompt: Graficar y=x^2\n",
        "\n",
        "import matplotlib.pyplot as plt\n",
        "import numpy as np\n",
        "\n",
        "# Generar datos\n",
        "x = np.linspace(-10, 10, 400)  # 400 puntos entre -10 y 10\n",
        "y = x**2\n",
        "\n",
        "# Crear la gráfica\n",
        "plt.plot(x, y)\n",
        "\n",
        "# Agregar etiquetas y título\n",
        "plt.xlabel(\"x\")\n",
        "plt.ylabel(\"y = x^2\")\n",
        "plt.title(\"Gráfica de y = x^2\")\n",
        "\n",
        "# Mostrar la gráfica\n",
        "plt.grid(True)\n",
        "plt.show()\n"
      ]
    },
    {
      "cell_type": "code",
      "source": [
        "import matplotlib."
      ],
      "metadata": {
        "id": "4VIcSZkmMX-g"
      },
      "execution_count": null,
      "outputs": []
    }
  ]
}