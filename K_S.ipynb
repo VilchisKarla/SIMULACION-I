{
  "nbformat": 4,
  "nbformat_minor": 0,
  "metadata": {
    "colab": {
      "provenance": [],
      "authorship_tag": "ABX9TyOg4IGePkMEkBTmk5VYzwdp",
      "include_colab_link": true
    },
    "kernelspec": {
      "name": "python3",
      "display_name": "Python 3"
    },
    "language_info": {
      "name": "python"
    }
  },
  "cells": [
    {
      "cell_type": "markdown",
      "metadata": {
        "id": "view-in-github",
        "colab_type": "text"
      },
      "source": [
        "<a href=\"https://colab.research.google.com/github/VilchisKarla/SIMULACION-I/blob/main/K_S.ipynb\" target=\"_parent\"><img src=\"https://colab.research.google.com/assets/colab-badge.svg\" alt=\"Open In Colab\"/></a>"
      ]
    },
    {
      "cell_type": "markdown",
      "source": [
        "# **Kolmogorov-Smirnov**\n",
        "Vilchis García Karla Ivonne\n",
        "\n",
        "---\n",
        "\n",
        "\n",
        "prueba estadistca de nueros aleatorios\n",
        "\n",
        "\n",
        "1.   ordena de menor a mayor lo núnúmeros aleatorios\n",
        "2.   se calcula el valor máximo de D+, D- & D, con:\n",
        "\n",
        "   D+ =(1/n)-x_i\n",
        "\n",
        "   D- =x_i - ((i-1)/n)\n",
        "\n",
        "   D = max{D+, D-}\n",
        "\n",
        "3.  Determinar el  valor crítico δ_(α,n) de kolmogorov-Smirnov para un nivel de confianza (1-alpha) y un tamaño de muestra **n**\n",
        "\n",
        "\n",
        "\n",
        "---\n",
        "\n",
        "\n",
        "  si **D > δ_(α,n)** se rechaza H0\n"
      ],
      "metadata": {
        "id": "X2nFAbQ4T4EB"
      }
    },
    {
      "cell_type": "code",
      "source": [
        "import tabulate\n",
        "import math\n",
        "from scipy.stats import ksone\n",
        "#Kolmogorov-Smirnov\n",
        "muestra=[0.048, 0.591, 0.478, 0.166, 0.932, 0.926, 0.007, 0.551, 0.362, 0.533, 0.368, 0.437, 0.178, 0.411, 0.545, 0.787, 0.594, 0.086, 0.951, 0.772, 0.298, 0.199, 0.157, 0.401, 0.631]\n",
        "muestra.sort()\n",
        "N=25 #número de elementos de la muestra\n",
        "alpha=0.05  # Nivel de confianza\n",
        "m=len(muestra)\n",
        "#Generamos las listas vacías para almacenar los datos que aparecerán en la tabla\n",
        "tabla=[]\n",
        "it=[]\n",
        "div=[]\n",
        "resta1=[]\n",
        "resta2=[]\n",
        "\n",
        "for i in range(m):\n",
        "    it.append(i+1)#lugar que ocupa cada dato\n",
        "    div.append(it[i]/N) #divide la posición entre la cantidad de datos\n",
        "    resta1.append( f\"{abs(div[i]-muestra[i]):.4f}\")#obtiene el valor absoluto de la resta de la división anterior con el correspondiente dato de la muestra\n",
        "    resta2.append( f\"{abs(muestra[i]-(div[i]-1/N)):.4f}\")#obtiene el valor absoluto de la resta del dato de la muestra menos la div-1 correspondiente dato de la muestra\n",
        "    tabla.append([it[i], muestra[i], div[i], resta1[i], resta2[i]])#almacena los datos anteriores para crear la tabla\n",
        "#obtenemos los valores maximos de la columna D+ y D-\n",
        "maximo_mas=max(resta1)\n",
        "maximo_mas = float(maximo_mas)\n",
        "maximo_menos=max(resta2)\n",
        "maximo_menos = float(maximo_menos)\n",
        "#añadimos una fila al final de la tabla con los valores maximos obtenidos en cada columna\n",
        "tabla.append([\"\",\"\",\"\\033[1mMaximo\\033[0m\", maximo_mas, maximo_menos])\n",
        "#calculamos el valor critico para K-S\n",
        "VC = ksone.ppf(1-alpha/2, N)\n",
        "print(f\"\\033[1mValor Critico: {VC:.3f}\\033[0m\")\n",
        "#obtenemos el valor maximo entre D+ y D-\n",
        "MAX=max(maximo_mas,maximo_menos)\n",
        "print(f\"\\033[1mVALOR MAXIMO: {MAX}\\033[0m\")\n",
        "#Condición paa verificar si se rechaza o no H0\n",
        "if MAX > VC:\n",
        "    print(\"\\033[1mRechaza H0\\033[0m\")\n",
        "else:\n",
        "    print(\"\\033[1mNo se rechaza H0\\033[0m\")\n",
        "#Imprime la tabla con los correspondientes encabezados\n",
        "encabezados=[\"i\", \"Xi\", \"i/n\", \"D+\", \"D-\"]\n",
        "print(tabulate.tabulate(tabla, headers=encabezados, tablefmt=\"fancy_grid\", numalign=\"center\", stralign=\"center\"))\n",
        "\n",
        "\n"
      ],
      "metadata": {
        "colab": {
          "base_uri": "https://localhost:8080/"
        },
        "id": "SHMOPZYAwI3c",
        "outputId": "2d9c9eb8-b279-4871-9935-a3786bad1b83"
      },
      "execution_count": null,
      "outputs": [
        {
          "output_type": "stream",
          "name": "stdout",
          "text": [
            "\u001b[1mValor Critico: 0.264\u001b[0m\n",
            "\u001b[1mVALOR MAXIMO: 0.169\u001b[0m\n",
            "\u001b[1mNo se rechaza H0\u001b[0m\n",
            "╒═════╤═══════╤════════╤═══════╤═══════╕\n",
            "│  i  │  Xi   │  i/n   │  D+   │  D-   │\n",
            "╞═════╪═══════╪════════╪═══════╪═══════╡\n",
            "│  1  │ 0.007 │  0.04  │ 0.033 │ 0.007 │\n",
            "├─────┼───────┼────────┼───────┼───────┤\n",
            "│  2  │ 0.048 │  0.08  │ 0.032 │ 0.008 │\n",
            "├─────┼───────┼────────┼───────┼───────┤\n",
            "│  3  │ 0.086 │  0.12  │ 0.034 │ 0.006 │\n",
            "├─────┼───────┼────────┼───────┼───────┤\n",
            "│  4  │ 0.157 │  0.16  │ 0.003 │ 0.037 │\n",
            "├─────┼───────┼────────┼───────┼───────┤\n",
            "│  5  │ 0.166 │  0.2   │ 0.034 │ 0.006 │\n",
            "├─────┼───────┼────────┼───────┼───────┤\n",
            "│  6  │ 0.178 │  0.24  │ 0.062 │ 0.022 │\n",
            "├─────┼───────┼────────┼───────┼───────┤\n",
            "│  7  │ 0.199 │  0.28  │ 0.081 │ 0.041 │\n",
            "├─────┼───────┼────────┼───────┼───────┤\n",
            "│  8  │ 0.298 │  0.32  │ 0.022 │ 0.018 │\n",
            "├─────┼───────┼────────┼───────┼───────┤\n",
            "│  9  │ 0.362 │  0.36  │ 0.002 │ 0.042 │\n",
            "├─────┼───────┼────────┼───────┼───────┤\n",
            "│ 10  │ 0.368 │  0.4   │ 0.032 │ 0.008 │\n",
            "├─────┼───────┼────────┼───────┼───────┤\n",
            "│ 11  │ 0.401 │  0.44  │ 0.039 │ 0.001 │\n",
            "├─────┼───────┼────────┼───────┼───────┤\n",
            "│ 12  │ 0.411 │  0.48  │ 0.069 │ 0.029 │\n",
            "├─────┼───────┼────────┼───────┼───────┤\n",
            "│ 13  │ 0.437 │  0.52  │ 0.083 │ 0.043 │\n",
            "├─────┼───────┼────────┼───────┼───────┤\n",
            "│ 14  │ 0.478 │  0.56  │ 0.082 │ 0.042 │\n",
            "├─────┼───────┼────────┼───────┼───────┤\n",
            "│ 15  │ 0.533 │  0.6   │ 0.067 │ 0.027 │\n",
            "├─────┼───────┼────────┼───────┼───────┤\n",
            "│ 16  │ 0.545 │  0.64  │ 0.095 │ 0.055 │\n",
            "├─────┼───────┼────────┼───────┼───────┤\n",
            "│ 17  │ 0.551 │  0.68  │ 0.129 │ 0.089 │\n",
            "├─────┼───────┼────────┼───────┼───────┤\n",
            "│ 18  │ 0.591 │  0.72  │ 0.129 │ 0.089 │\n",
            "├─────┼───────┼────────┼───────┼───────┤\n",
            "│ 19  │ 0.594 │  0.76  │ 0.166 │ 0.126 │\n",
            "├─────┼───────┼────────┼───────┼───────┤\n",
            "│ 20  │ 0.631 │  0.8   │ 0.169 │ 0.129 │\n",
            "├─────┼───────┼────────┼───────┼───────┤\n",
            "│ 21  │ 0.772 │  0.84  │ 0.068 │ 0.028 │\n",
            "├─────┼───────┼────────┼───────┼───────┤\n",
            "│ 22  │ 0.787 │  0.88  │ 0.093 │ 0.053 │\n",
            "├─────┼───────┼────────┼───────┼───────┤\n",
            "│ 23  │ 0.926 │  0.92  │ 0.006 │ 0.046 │\n",
            "├─────┼───────┼────────┼───────┼───────┤\n",
            "│ 24  │ 0.932 │  0.96  │ 0.028 │ 0.012 │\n",
            "├─────┼───────┼────────┼───────┼───────┤\n",
            "│ 25  │ 0.951 │  1.0   │ 0.049 │ 0.009 │\n",
            "├─────┼───────┼────────┼───────┼───────┤\n",
            "│     │       │ \u001b[1mMaximo\u001b[0m │ 0.169 │ 0.129 │\n",
            "╘═════╧═══════╧════════╧═══════╧═══════╛\n"
          ]
        }
      ]
    }
  ]
}