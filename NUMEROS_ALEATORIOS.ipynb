{
  "nbformat": 4,
  "nbformat_minor": 0,
  "metadata": {
    "colab": {
      "provenance": [],
      "authorship_tag": "ABX9TyM3EPQmWVJsbrcuHCzyzu93",
      "include_colab_link": true
    },
    "kernelspec": {
      "name": "python3",
      "display_name": "Python 3"
    },
    "language_info": {
      "name": "python"
    }
  },
  "cells": [
    {
      "cell_type": "markdown",
      "metadata": {
        "id": "view-in-github",
        "colab_type": "text"
      },
      "source": [
        "<a href=\"https://colab.research.google.com/github/VilchisKarla/SIMULACION-I/blob/main/NUMEROS_ALEATORIOS.ipynb\" target=\"_parent\"><img src=\"https://colab.research.google.com/assets/colab-badge.svg\" alt=\"Open In Colab\"/></a>"
      ]
    },
    {
      "cell_type": "code",
      "execution_count": 17,
      "metadata": {
        "colab": {
          "base_uri": "https://localhost:8080/"
        },
        "id": "ED2Toht5VWpM",
        "outputId": "75bae952-1bb0-46d3-9bcd-9a6f7d434ce8"
      },
      "outputs": [
        {
          "output_type": "stream",
          "name": "stdout",
          "text": [
            "  i    x_i    x_{i+1}\n",
            "---  -----  ---------\n",
            "  0      3  0.363636\n",
            "  1      8  0.590909\n",
            "  2     13  0.818182\n",
            "  3     18  0.0454545\n",
            "  4      1  0.272727\n",
            "  5      6  0.5\n",
            "  6     11  0.727273\n",
            "  7     16  0.954545\n",
            "  8     21  0.181818\n",
            "  9      4  0.409091\n",
            " 10      9  0.636364\n",
            " 11     14  0.863636\n",
            " 12     19  0.0909091\n",
            " 13      2  0.318182\n",
            " 14      7  0.545455\n",
            " 15     12  0.772727\n",
            " 16     17  0\n",
            " 17      0  0.227273\n",
            " 18      5  0.454545\n",
            " 19     10  0.681818\n",
            " 20     15  0.909091\n",
            " 21     20  0.136364\n",
            " 22      3  0.363636\n",
            " 23      8  0.590909\n",
            " 24     13  0.818182\n",
            " 25     18  0.0454545\n",
            " 26      1  0.272727\n",
            " 27      6  0.5\n",
            " 28     11  0.727273\n",
            " 29     16  0.954545\n",
            " 30     21  0.181818\n",
            " 31      4  0.409091\n",
            " 32      9  0.636364\n",
            " 33     14  0.863636\n",
            " 34     19  0.0909091\n",
            " 35      2  0.318182\n",
            " 36      7  0.545455\n",
            " 37     12  0.772727\n",
            " 38     17  0\n",
            " 39      0  0.227273\n",
            " 40      5  0.454545\n",
            " 41     10  0.681818\n",
            " 42     15  0.909091\n",
            " 43     20  0.136364\n",
            " 44      3  0.363636\n",
            " 45      8  0.590909\n",
            " 46     13  0.818182\n",
            " 47     18  0.0454545\n",
            " 48      1  0.272727\n",
            " 49      6  0.5\n"
          ]
        }
      ],
      "source": [
        "import tabulate\n",
        "a=1\n",
        "c=27\n",
        "m=22\n",
        "X0=3\n",
        "def generador(a,c,m,X0):\n",
        "    x=(a*X0+c)%m\n",
        "    return x\n",
        "muestra=[]\n",
        "for i in range(50):\n",
        "    nuevo=generador(a,c,m,X0)\n",
        "    muestra.append([i,X0,nuevo/m])\n",
        "    X0=nuevo\n",
        "encabezados=[\"i\",\"x_i\",\"x_{i+1}\"]\n",
        "print(tabulate.tabulate(muestra, headers=encabezados))"
      ]
    }
  ]
}